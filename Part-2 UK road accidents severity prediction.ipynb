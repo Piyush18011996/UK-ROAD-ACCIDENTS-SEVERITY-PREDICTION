{
 "cells": [
  {
   "cell_type": "markdown",
   "metadata": {},
   "source": [
    "## To Predict the Accident Severity.\n",
    "Accidents are one of the leading causes of death worldwide. Due to the increase in population and motorization, the number of accidents worldwide has been increasing. Better prediction of the severity of accidents is essential to improve the safety performance of road traffic systems and reduce such unfortunate accidents.\n",
    "\n",
    "**For this we are using accident data from uk goverment website \"https://www.gov.uk/government/statistical-data-sets/reported-road-accidents-vehicles-and-casualties-tables-for-great-britain\"** **\"Road Saftey data-accident 2019.csv\"**"
   ]
  },
  {
   "cell_type": "code",
   "execution_count": 1,
   "metadata": {},
   "outputs": [],
   "source": [
    "#importing the base libraries\n",
    "import numpy as np\n",
    "import pandas as pd\n",
    "import matplotlib.pyplot as plt\n",
    "import time"
   ]
  },
  {
   "cell_type": "markdown",
   "metadata": {},
   "source": [
    "# 1.Loading the Datasets"
   ]
  },
  {
   "cell_type": "code",
   "execution_count": 2,
   "metadata": {},
   "outputs": [],
   "source": [
    "#Importing the datasets.\n",
    "trainset = pd.read_csv(\"train.csv\").drop(['Unnamed: 0'],axis=1) \n",
    "testset = pd.read_csv(\"test.csv\").drop(['Unnamed: 0'],axis=1)"
   ]
  },
  {
   "cell_type": "code",
   "execution_count": 3,
   "metadata": {},
   "outputs": [
    {
     "data": {
      "text/html": [
       "<div>\n",
       "<style scoped>\n",
       "    .dataframe tbody tr th:only-of-type {\n",
       "        vertical-align: middle;\n",
       "    }\n",
       "\n",
       "    .dataframe tbody tr th {\n",
       "        vertical-align: top;\n",
       "    }\n",
       "\n",
       "    .dataframe thead th {\n",
       "        text-align: right;\n",
       "    }\n",
       "</style>\n",
       "<table border=\"1\" class=\"dataframe\">\n",
       "  <thead>\n",
       "    <tr style=\"text-align: right;\">\n",
       "      <th></th>\n",
       "      <th>Accident_Severity</th>\n",
       "      <th>Number_of_Casualties</th>\n",
       "      <th>Monday</th>\n",
       "      <th>Saturday</th>\n",
       "      <th>Sunday</th>\n",
       "      <th>Thursday</th>\n",
       "      <th>Tuesday</th>\n",
       "      <th>Wednesday</th>\n",
       "      <th>Night</th>\n",
       "      <th>Darkness with lights unlit</th>\n",
       "      <th>...</th>\n",
       "      <th>March</th>\n",
       "      <th>May</th>\n",
       "      <th>November</th>\n",
       "      <th>October</th>\n",
       "      <th>September</th>\n",
       "      <th>Urban</th>\n",
       "      <th>Flood</th>\n",
       "      <th>Frost</th>\n",
       "      <th>Snow</th>\n",
       "      <th>Wet</th>\n",
       "    </tr>\n",
       "  </thead>\n",
       "  <tbody>\n",
       "    <tr>\n",
       "      <th>0</th>\n",
       "      <td>Slight</td>\n",
       "      <td>1</td>\n",
       "      <td>0.0</td>\n",
       "      <td>0.0</td>\n",
       "      <td>0.0</td>\n",
       "      <td>0.0</td>\n",
       "      <td>1.0</td>\n",
       "      <td>0.0</td>\n",
       "      <td>0.0</td>\n",
       "      <td>0.0</td>\n",
       "      <td>...</td>\n",
       "      <td>0.0</td>\n",
       "      <td>0.0</td>\n",
       "      <td>0.0</td>\n",
       "      <td>0.0</td>\n",
       "      <td>0.0</td>\n",
       "      <td>1.0</td>\n",
       "      <td>0.0</td>\n",
       "      <td>0.0</td>\n",
       "      <td>0.0</td>\n",
       "      <td>1.0</td>\n",
       "    </tr>\n",
       "    <tr>\n",
       "      <th>1</th>\n",
       "      <td>Slight</td>\n",
       "      <td>1</td>\n",
       "      <td>0.0</td>\n",
       "      <td>0.0</td>\n",
       "      <td>1.0</td>\n",
       "      <td>0.0</td>\n",
       "      <td>0.0</td>\n",
       "      <td>0.0</td>\n",
       "      <td>0.0</td>\n",
       "      <td>0.0</td>\n",
       "      <td>...</td>\n",
       "      <td>0.0</td>\n",
       "      <td>1.0</td>\n",
       "      <td>0.0</td>\n",
       "      <td>0.0</td>\n",
       "      <td>0.0</td>\n",
       "      <td>0.0</td>\n",
       "      <td>0.0</td>\n",
       "      <td>0.0</td>\n",
       "      <td>0.0</td>\n",
       "      <td>0.0</td>\n",
       "    </tr>\n",
       "    <tr>\n",
       "      <th>2</th>\n",
       "      <td>Slight</td>\n",
       "      <td>1</td>\n",
       "      <td>0.0</td>\n",
       "      <td>0.0</td>\n",
       "      <td>0.0</td>\n",
       "      <td>0.0</td>\n",
       "      <td>1.0</td>\n",
       "      <td>0.0</td>\n",
       "      <td>0.0</td>\n",
       "      <td>0.0</td>\n",
       "      <td>...</td>\n",
       "      <td>0.0</td>\n",
       "      <td>0.0</td>\n",
       "      <td>0.0</td>\n",
       "      <td>0.0</td>\n",
       "      <td>0.0</td>\n",
       "      <td>1.0</td>\n",
       "      <td>0.0</td>\n",
       "      <td>0.0</td>\n",
       "      <td>0.0</td>\n",
       "      <td>1.0</td>\n",
       "    </tr>\n",
       "    <tr>\n",
       "      <th>3</th>\n",
       "      <td>Slight</td>\n",
       "      <td>1</td>\n",
       "      <td>1.0</td>\n",
       "      <td>0.0</td>\n",
       "      <td>0.0</td>\n",
       "      <td>0.0</td>\n",
       "      <td>0.0</td>\n",
       "      <td>0.0</td>\n",
       "      <td>0.0</td>\n",
       "      <td>0.0</td>\n",
       "      <td>...</td>\n",
       "      <td>0.0</td>\n",
       "      <td>0.0</td>\n",
       "      <td>0.0</td>\n",
       "      <td>0.0</td>\n",
       "      <td>0.0</td>\n",
       "      <td>1.0</td>\n",
       "      <td>0.0</td>\n",
       "      <td>0.0</td>\n",
       "      <td>0.0</td>\n",
       "      <td>0.0</td>\n",
       "    </tr>\n",
       "    <tr>\n",
       "      <th>4</th>\n",
       "      <td>Slight</td>\n",
       "      <td>1</td>\n",
       "      <td>0.0</td>\n",
       "      <td>0.0</td>\n",
       "      <td>0.0</td>\n",
       "      <td>0.0</td>\n",
       "      <td>1.0</td>\n",
       "      <td>0.0</td>\n",
       "      <td>0.0</td>\n",
       "      <td>0.0</td>\n",
       "      <td>...</td>\n",
       "      <td>0.0</td>\n",
       "      <td>0.0</td>\n",
       "      <td>0.0</td>\n",
       "      <td>0.0</td>\n",
       "      <td>0.0</td>\n",
       "      <td>1.0</td>\n",
       "      <td>0.0</td>\n",
       "      <td>0.0</td>\n",
       "      <td>0.0</td>\n",
       "      <td>0.0</td>\n",
       "    </tr>\n",
       "  </tbody>\n",
       "</table>\n",
       "<p>5 rows × 34 columns</p>\n",
       "</div>"
      ],
      "text/plain": [
       "  Accident_Severity  Number_of_Casualties  Monday  Saturday  Sunday  Thursday  \\\n",
       "0            Slight                     1     0.0       0.0     0.0       0.0   \n",
       "1            Slight                     1     0.0       0.0     1.0       0.0   \n",
       "2            Slight                     1     0.0       0.0     0.0       0.0   \n",
       "3            Slight                     1     1.0       0.0     0.0       0.0   \n",
       "4            Slight                     1     0.0       0.0     0.0       0.0   \n",
       "\n",
       "   Tuesday  Wednesday  Night  Darkness with lights unlit  ...  March  May  \\\n",
       "0      1.0        0.0    0.0                         0.0  ...    0.0  0.0   \n",
       "1      0.0        0.0    0.0                         0.0  ...    0.0  1.0   \n",
       "2      1.0        0.0    0.0                         0.0  ...    0.0  0.0   \n",
       "3      0.0        0.0    0.0                         0.0  ...    0.0  0.0   \n",
       "4      1.0        0.0    0.0                         0.0  ...    0.0  0.0   \n",
       "\n",
       "   November  October  September  Urban  Flood  Frost  Snow  Wet  \n",
       "0       0.0      0.0        0.0    1.0    0.0    0.0   0.0  1.0  \n",
       "1       0.0      0.0        0.0    0.0    0.0    0.0   0.0  0.0  \n",
       "2       0.0      0.0        0.0    1.0    0.0    0.0   0.0  1.0  \n",
       "3       0.0      0.0        0.0    1.0    0.0    0.0   0.0  0.0  \n",
       "4       0.0      0.0        0.0    1.0    0.0    0.0   0.0  0.0  \n",
       "\n",
       "[5 rows x 34 columns]"
      ]
     },
     "execution_count": 3,
     "metadata": {},
     "output_type": "execute_result"
    }
   ],
   "source": [
    "#Displaying results\n",
    "trainset.head()"
   ]
  },
  {
   "cell_type": "code",
   "execution_count": 4,
   "metadata": {},
   "outputs": [
    {
     "data": {
      "text/html": [
       "<div>\n",
       "<style scoped>\n",
       "    .dataframe tbody tr th:only-of-type {\n",
       "        vertical-align: middle;\n",
       "    }\n",
       "\n",
       "    .dataframe tbody tr th {\n",
       "        vertical-align: top;\n",
       "    }\n",
       "\n",
       "    .dataframe thead th {\n",
       "        text-align: right;\n",
       "    }\n",
       "</style>\n",
       "<table border=\"1\" class=\"dataframe\">\n",
       "  <thead>\n",
       "    <tr style=\"text-align: right;\">\n",
       "      <th></th>\n",
       "      <th>Accident_Severity</th>\n",
       "      <th>Number_of_Casualties</th>\n",
       "      <th>Monday</th>\n",
       "      <th>Saturday</th>\n",
       "      <th>Sunday</th>\n",
       "      <th>Thursday</th>\n",
       "      <th>Tuesday</th>\n",
       "      <th>Wednesday</th>\n",
       "      <th>Night</th>\n",
       "      <th>Darkness with lights unlit</th>\n",
       "      <th>...</th>\n",
       "      <th>March</th>\n",
       "      <th>May</th>\n",
       "      <th>November</th>\n",
       "      <th>October</th>\n",
       "      <th>September</th>\n",
       "      <th>Urban</th>\n",
       "      <th>Flood</th>\n",
       "      <th>Frost</th>\n",
       "      <th>Snow</th>\n",
       "      <th>Wet</th>\n",
       "    </tr>\n",
       "  </thead>\n",
       "  <tbody>\n",
       "    <tr>\n",
       "      <th>0</th>\n",
       "      <td>Slight</td>\n",
       "      <td>1</td>\n",
       "      <td>0.0</td>\n",
       "      <td>0.0</td>\n",
       "      <td>0.0</td>\n",
       "      <td>0.0</td>\n",
       "      <td>1.0</td>\n",
       "      <td>0.0</td>\n",
       "      <td>0.0</td>\n",
       "      <td>0.0</td>\n",
       "      <td>...</td>\n",
       "      <td>0.0</td>\n",
       "      <td>0.0</td>\n",
       "      <td>0.0</td>\n",
       "      <td>0.0</td>\n",
       "      <td>0.0</td>\n",
       "      <td>0.0</td>\n",
       "      <td>0.0</td>\n",
       "      <td>0.0</td>\n",
       "      <td>1.0</td>\n",
       "      <td>1.0</td>\n",
       "    </tr>\n",
       "    <tr>\n",
       "      <th>1</th>\n",
       "      <td>Slight</td>\n",
       "      <td>1</td>\n",
       "      <td>0.0</td>\n",
       "      <td>0.0</td>\n",
       "      <td>0.0</td>\n",
       "      <td>0.0</td>\n",
       "      <td>0.0</td>\n",
       "      <td>1.0</td>\n",
       "      <td>0.0</td>\n",
       "      <td>0.0</td>\n",
       "      <td>...</td>\n",
       "      <td>0.0</td>\n",
       "      <td>0.0</td>\n",
       "      <td>0.0</td>\n",
       "      <td>0.0</td>\n",
       "      <td>0.0</td>\n",
       "      <td>1.0</td>\n",
       "      <td>0.0</td>\n",
       "      <td>0.0</td>\n",
       "      <td>0.0</td>\n",
       "      <td>0.0</td>\n",
       "    </tr>\n",
       "    <tr>\n",
       "      <th>2</th>\n",
       "      <td>Serious</td>\n",
       "      <td>1</td>\n",
       "      <td>1.0</td>\n",
       "      <td>0.0</td>\n",
       "      <td>0.0</td>\n",
       "      <td>0.0</td>\n",
       "      <td>0.0</td>\n",
       "      <td>0.0</td>\n",
       "      <td>1.0</td>\n",
       "      <td>0.0</td>\n",
       "      <td>...</td>\n",
       "      <td>0.0</td>\n",
       "      <td>0.0</td>\n",
       "      <td>0.0</td>\n",
       "      <td>0.0</td>\n",
       "      <td>1.0</td>\n",
       "      <td>1.0</td>\n",
       "      <td>0.0</td>\n",
       "      <td>0.0</td>\n",
       "      <td>0.0</td>\n",
       "      <td>0.0</td>\n",
       "    </tr>\n",
       "    <tr>\n",
       "      <th>3</th>\n",
       "      <td>Slight</td>\n",
       "      <td>1</td>\n",
       "      <td>0.0</td>\n",
       "      <td>0.0</td>\n",
       "      <td>0.0</td>\n",
       "      <td>0.0</td>\n",
       "      <td>1.0</td>\n",
       "      <td>0.0</td>\n",
       "      <td>0.0</td>\n",
       "      <td>0.0</td>\n",
       "      <td>...</td>\n",
       "      <td>0.0</td>\n",
       "      <td>0.0</td>\n",
       "      <td>0.0</td>\n",
       "      <td>0.0</td>\n",
       "      <td>0.0</td>\n",
       "      <td>1.0</td>\n",
       "      <td>0.0</td>\n",
       "      <td>0.0</td>\n",
       "      <td>0.0</td>\n",
       "      <td>1.0</td>\n",
       "    </tr>\n",
       "    <tr>\n",
       "      <th>4</th>\n",
       "      <td>Slight</td>\n",
       "      <td>1</td>\n",
       "      <td>0.0</td>\n",
       "      <td>0.0</td>\n",
       "      <td>1.0</td>\n",
       "      <td>0.0</td>\n",
       "      <td>0.0</td>\n",
       "      <td>0.0</td>\n",
       "      <td>0.0</td>\n",
       "      <td>0.0</td>\n",
       "      <td>...</td>\n",
       "      <td>0.0</td>\n",
       "      <td>0.0</td>\n",
       "      <td>0.0</td>\n",
       "      <td>0.0</td>\n",
       "      <td>0.0</td>\n",
       "      <td>0.0</td>\n",
       "      <td>0.0</td>\n",
       "      <td>0.0</td>\n",
       "      <td>0.0</td>\n",
       "      <td>0.0</td>\n",
       "    </tr>\n",
       "  </tbody>\n",
       "</table>\n",
       "<p>5 rows × 34 columns</p>\n",
       "</div>"
      ],
      "text/plain": [
       "  Accident_Severity  Number_of_Casualties  Monday  Saturday  Sunday  Thursday  \\\n",
       "0            Slight                     1     0.0       0.0     0.0       0.0   \n",
       "1            Slight                     1     0.0       0.0     0.0       0.0   \n",
       "2           Serious                     1     1.0       0.0     0.0       0.0   \n",
       "3            Slight                     1     0.0       0.0     0.0       0.0   \n",
       "4            Slight                     1     0.0       0.0     1.0       0.0   \n",
       "\n",
       "   Tuesday  Wednesday  Night  Darkness with lights unlit  ...  March  May  \\\n",
       "0      1.0        0.0    0.0                         0.0  ...    0.0  0.0   \n",
       "1      0.0        1.0    0.0                         0.0  ...    0.0  0.0   \n",
       "2      0.0        0.0    1.0                         0.0  ...    0.0  0.0   \n",
       "3      1.0        0.0    0.0                         0.0  ...    0.0  0.0   \n",
       "4      0.0        0.0    0.0                         0.0  ...    0.0  0.0   \n",
       "\n",
       "   November  October  September  Urban  Flood  Frost  Snow  Wet  \n",
       "0       0.0      0.0        0.0    0.0    0.0    0.0   1.0  1.0  \n",
       "1       0.0      0.0        0.0    1.0    0.0    0.0   0.0  0.0  \n",
       "2       0.0      0.0        1.0    1.0    0.0    0.0   0.0  0.0  \n",
       "3       0.0      0.0        0.0    1.0    0.0    0.0   0.0  1.0  \n",
       "4       0.0      0.0        0.0    0.0    0.0    0.0   0.0  0.0  \n",
       "\n",
       "[5 rows x 34 columns]"
      ]
     },
     "execution_count": 4,
     "metadata": {},
     "output_type": "execute_result"
    }
   ],
   "source": [
    "#Displaying results\n",
    "testset.head()"
   ]
  },
  {
   "cell_type": "code",
   "execution_count": 5,
   "metadata": {},
   "outputs": [
    {
     "name": "stdout",
     "output_type": "stream",
     "text": [
      "(17607, 34)\n",
      "(5826, 34)\n"
     ]
    }
   ],
   "source": [
    "#Checking the dimensions of the datasets\n",
    "print (trainset.shape)\n",
    "print (testset.shape)"
   ]
  },
  {
   "cell_type": "markdown",
   "metadata": {},
   "source": [
    "# 2.Train Models"
   ]
  },
  {
   "cell_type": "code",
   "execution_count": 6,
   "metadata": {},
   "outputs": [],
   "source": [
    "#drop labels for training set, but keep all others\n",
    "#creating separate arrays for the predictors (`Xtrain`) and for the target (`ytrain`):\n",
    "Xtrain = trainset.drop(\"Accident_Severity\", axis=1)\n",
    "ytrain = trainset[\"Accident_Severity\"].copy()\n",
    "\n",
    "#creating separate arrays for the testset (`Xtest`) and for the target (`ytest`):\n",
    "Xtest = testset.drop(\"Accident_Severity\", axis=1)\n",
    "ytest = testset[\"Accident_Severity\"].copy()"
   ]
  },
  {
   "cell_type": "markdown",
   "metadata": {},
   "source": [
    "## 2.1 Baseline Models\n",
    "We'll use a majority class classifier as a baseline, i.e., we will find out what is the most common class label in the training set and always output it as a prediction."
   ]
  },
  {
   "cell_type": "code",
   "execution_count": 7,
   "metadata": {},
   "outputs": [
    {
     "data": {
      "text/plain": [
       "Slight     14020\n",
       "Serious     3365\n",
       "Fatal        222\n",
       "Name: Accident_Severity, dtype: int64"
      ]
     },
     "execution_count": 7,
     "metadata": {},
     "output_type": "execute_result"
    }
   ],
   "source": [
    "#Displaying the number of instances belonging to each class\n",
    "trainset[\"Accident_Severity\"].value_counts()"
   ]
  },
  {
   "cell_type": "markdown",
   "metadata": {},
   "source": [
    "The baseline classifier will output \"Slight\" for all predictions. We will use macro-averaging in this project (precision, recall and F-score are evaluated in each class separately and then averaged across classes).\n",
    "\n",
    "So if we apply the baseline classifier to all of the training set. \n",
    "\n",
    "For the \"Slight\" label, the accuracy measures will be:\n",
    "\n",
    "* Precision: 14020/17607 = 0.796\n",
    "\n",
    "* Recall: 14020/14020 = 1.0\n",
    "\n",
    "* F-score: 2/(1/precision + 1/recall) = 0.886\n",
    "\n",
    "The averages of the three classes, i.e. the eventual baseline scores:\n",
    "\n",
    "* **Precision: 0.2653**\n",
    "\n",
    "* **Recall: 0.3333**\n",
    "\n",
    "* **F-score: 0.2953**"
   ]
  },
  {
   "cell_type": "markdown",
   "metadata": {},
   "source": [
    "## 2.2 Logistics Regression Model Using Grid Search"
   ]
  },
  {
   "cell_type": "markdown",
   "metadata": {},
   "source": [
    "**We are using grid serach CV library function, it helps in getting best model by doing Hyperparameter tunning automatically on mentioned parameters and gives us the best parameters.**"
   ]
  },
  {
   "cell_type": "code",
   "execution_count": 8,
   "metadata": {},
   "outputs": [
    {
     "name": "stderr",
     "output_type": "stream",
     "text": [
      "/Users/piyushchaudhary/opt/anaconda3/lib/python3.8/site-packages/sklearn/model_selection/_validation.py:615: FitFailedWarning: Estimator fit failed. The score on this train-test partition for these parameters will be set to nan. Details: \n",
      "Traceback (most recent call last):\n",
      "  File \"/Users/piyushchaudhary/opt/anaconda3/lib/python3.8/site-packages/sklearn/model_selection/_validation.py\", line 598, in _fit_and_score\n",
      "    estimator.fit(X_train, y_train, **fit_params)\n",
      "  File \"/Users/piyushchaudhary/opt/anaconda3/lib/python3.8/site-packages/sklearn/linear_model/_logistic.py\", line 1306, in fit\n",
      "    solver = _check_solver(self.solver, self.penalty, self.dual)\n",
      "  File \"/Users/piyushchaudhary/opt/anaconda3/lib/python3.8/site-packages/sklearn/linear_model/_logistic.py\", line 443, in _check_solver\n",
      "    raise ValueError(\"Solver %s supports only 'l2' or 'none' penalties, \"\n",
      "ValueError: Solver lbfgs supports only 'l2' or 'none' penalties, got l1 penalty.\n",
      "\n",
      "  warnings.warn(\"Estimator fit failed. The score on this train-test\"\n",
      "/Users/piyushchaudhary/opt/anaconda3/lib/python3.8/site-packages/sklearn/model_selection/_validation.py:615: FitFailedWarning: Estimator fit failed. The score on this train-test partition for these parameters will be set to nan. Details: \n",
      "Traceback (most recent call last):\n",
      "  File \"/Users/piyushchaudhary/opt/anaconda3/lib/python3.8/site-packages/sklearn/model_selection/_validation.py\", line 598, in _fit_and_score\n",
      "    estimator.fit(X_train, y_train, **fit_params)\n",
      "  File \"/Users/piyushchaudhary/opt/anaconda3/lib/python3.8/site-packages/sklearn/linear_model/_logistic.py\", line 1306, in fit\n",
      "    solver = _check_solver(self.solver, self.penalty, self.dual)\n",
      "  File \"/Users/piyushchaudhary/opt/anaconda3/lib/python3.8/site-packages/sklearn/linear_model/_logistic.py\", line 443, in _check_solver\n",
      "    raise ValueError(\"Solver %s supports only 'l2' or 'none' penalties, \"\n",
      "ValueError: Solver lbfgs supports only 'l2' or 'none' penalties, got l1 penalty.\n",
      "\n",
      "  warnings.warn(\"Estimator fit failed. The score on this train-test\"\n",
      "/Users/piyushchaudhary/opt/anaconda3/lib/python3.8/site-packages/sklearn/model_selection/_validation.py:615: FitFailedWarning: Estimator fit failed. The score on this train-test partition for these parameters will be set to nan. Details: \n",
      "Traceback (most recent call last):\n",
      "  File \"/Users/piyushchaudhary/opt/anaconda3/lib/python3.8/site-packages/sklearn/model_selection/_validation.py\", line 598, in _fit_and_score\n",
      "    estimator.fit(X_train, y_train, **fit_params)\n",
      "  File \"/Users/piyushchaudhary/opt/anaconda3/lib/python3.8/site-packages/sklearn/linear_model/_logistic.py\", line 1306, in fit\n",
      "    solver = _check_solver(self.solver, self.penalty, self.dual)\n",
      "  File \"/Users/piyushchaudhary/opt/anaconda3/lib/python3.8/site-packages/sklearn/linear_model/_logistic.py\", line 443, in _check_solver\n",
      "    raise ValueError(\"Solver %s supports only 'l2' or 'none' penalties, \"\n",
      "ValueError: Solver lbfgs supports only 'l2' or 'none' penalties, got l1 penalty.\n",
      "\n",
      "  warnings.warn(\"Estimator fit failed. The score on this train-test\"\n",
      "/Users/piyushchaudhary/opt/anaconda3/lib/python3.8/site-packages/sklearn/model_selection/_validation.py:615: FitFailedWarning: Estimator fit failed. The score on this train-test partition for these parameters will be set to nan. Details: \n",
      "Traceback (most recent call last):\n",
      "  File \"/Users/piyushchaudhary/opt/anaconda3/lib/python3.8/site-packages/sklearn/model_selection/_validation.py\", line 598, in _fit_and_score\n",
      "    estimator.fit(X_train, y_train, **fit_params)\n",
      "  File \"/Users/piyushchaudhary/opt/anaconda3/lib/python3.8/site-packages/sklearn/linear_model/_logistic.py\", line 1306, in fit\n",
      "    solver = _check_solver(self.solver, self.penalty, self.dual)\n",
      "  File \"/Users/piyushchaudhary/opt/anaconda3/lib/python3.8/site-packages/sklearn/linear_model/_logistic.py\", line 443, in _check_solver\n",
      "    raise ValueError(\"Solver %s supports only 'l2' or 'none' penalties, \"\n",
      "ValueError: Solver lbfgs supports only 'l2' or 'none' penalties, got l1 penalty.\n",
      "\n",
      "  warnings.warn(\"Estimator fit failed. The score on this train-test\"\n",
      "/Users/piyushchaudhary/opt/anaconda3/lib/python3.8/site-packages/sklearn/model_selection/_validation.py:615: FitFailedWarning: Estimator fit failed. The score on this train-test partition for these parameters will be set to nan. Details: \n",
      "Traceback (most recent call last):\n",
      "  File \"/Users/piyushchaudhary/opt/anaconda3/lib/python3.8/site-packages/sklearn/model_selection/_validation.py\", line 598, in _fit_and_score\n",
      "    estimator.fit(X_train, y_train, **fit_params)\n",
      "  File \"/Users/piyushchaudhary/opt/anaconda3/lib/python3.8/site-packages/sklearn/linear_model/_logistic.py\", line 1306, in fit\n",
      "    solver = _check_solver(self.solver, self.penalty, self.dual)\n",
      "  File \"/Users/piyushchaudhary/opt/anaconda3/lib/python3.8/site-packages/sklearn/linear_model/_logistic.py\", line 443, in _check_solver\n",
      "    raise ValueError(\"Solver %s supports only 'l2' or 'none' penalties, \"\n",
      "ValueError: Solver lbfgs supports only 'l2' or 'none' penalties, got l1 penalty.\n",
      "\n",
      "  warnings.warn(\"Estimator fit failed. The score on this train-test\"\n",
      "/Users/piyushchaudhary/opt/anaconda3/lib/python3.8/site-packages/sklearn/linear_model/_logistic.py:763: ConvergenceWarning: lbfgs failed to converge (status=1):\n",
      "STOP: TOTAL NO. of ITERATIONS REACHED LIMIT.\n",
      "\n",
      "Increase the number of iterations (max_iter) or scale the data as shown in:\n",
      "    https://scikit-learn.org/stable/modules/preprocessing.html\n",
      "Please also refer to the documentation for alternative solver options:\n",
      "    https://scikit-learn.org/stable/modules/linear_model.html#logistic-regression\n",
      "  n_iter_i = _check_optimize_result(\n",
      "/Users/piyushchaudhary/opt/anaconda3/lib/python3.8/site-packages/sklearn/linear_model/_logistic.py:763: ConvergenceWarning: lbfgs failed to converge (status=1):\n",
      "STOP: TOTAL NO. of ITERATIONS REACHED LIMIT.\n",
      "\n",
      "Increase the number of iterations (max_iter) or scale the data as shown in:\n",
      "    https://scikit-learn.org/stable/modules/preprocessing.html\n",
      "Please also refer to the documentation for alternative solver options:\n",
      "    https://scikit-learn.org/stable/modules/linear_model.html#logistic-regression\n",
      "  n_iter_i = _check_optimize_result(\n",
      "/Users/piyushchaudhary/opt/anaconda3/lib/python3.8/site-packages/sklearn/linear_model/_logistic.py:763: ConvergenceWarning: lbfgs failed to converge (status=1):\n",
      "STOP: TOTAL NO. of ITERATIONS REACHED LIMIT.\n",
      "\n",
      "Increase the number of iterations (max_iter) or scale the data as shown in:\n",
      "    https://scikit-learn.org/stable/modules/preprocessing.html\n",
      "Please also refer to the documentation for alternative solver options:\n",
      "    https://scikit-learn.org/stable/modules/linear_model.html#logistic-regression\n",
      "  n_iter_i = _check_optimize_result(\n",
      "/Users/piyushchaudhary/opt/anaconda3/lib/python3.8/site-packages/sklearn/linear_model/_logistic.py:763: ConvergenceWarning: lbfgs failed to converge (status=1):\n",
      "STOP: TOTAL NO. of ITERATIONS REACHED LIMIT.\n",
      "\n",
      "Increase the number of iterations (max_iter) or scale the data as shown in:\n",
      "    https://scikit-learn.org/stable/modules/preprocessing.html\n",
      "Please also refer to the documentation for alternative solver options:\n",
      "    https://scikit-learn.org/stable/modules/linear_model.html#logistic-regression\n",
      "  n_iter_i = _check_optimize_result(\n",
      "/Users/piyushchaudhary/opt/anaconda3/lib/python3.8/site-packages/sklearn/linear_model/_logistic.py:763: ConvergenceWarning: lbfgs failed to converge (status=1):\n",
      "STOP: TOTAL NO. of ITERATIONS REACHED LIMIT.\n",
      "\n",
      "Increase the number of iterations (max_iter) or scale the data as shown in:\n",
      "    https://scikit-learn.org/stable/modules/preprocessing.html\n",
      "Please also refer to the documentation for alternative solver options:\n",
      "    https://scikit-learn.org/stable/modules/linear_model.html#logistic-regression\n",
      "  n_iter_i = _check_optimize_result(\n",
      "/Users/piyushchaudhary/opt/anaconda3/lib/python3.8/site-packages/sklearn/model_selection/_validation.py:615: FitFailedWarning: Estimator fit failed. The score on this train-test partition for these parameters will be set to nan. Details: \n",
      "Traceback (most recent call last):\n",
      "  File \"/Users/piyushchaudhary/opt/anaconda3/lib/python3.8/site-packages/sklearn/model_selection/_validation.py\", line 598, in _fit_and_score\n",
      "    estimator.fit(X_train, y_train, **fit_params)\n",
      "  File \"/Users/piyushchaudhary/opt/anaconda3/lib/python3.8/site-packages/sklearn/linear_model/_logistic.py\", line 1306, in fit\n",
      "    solver = _check_solver(self.solver, self.penalty, self.dual)\n",
      "  File \"/Users/piyushchaudhary/opt/anaconda3/lib/python3.8/site-packages/sklearn/linear_model/_logistic.py\", line 443, in _check_solver\n",
      "    raise ValueError(\"Solver %s supports only 'l2' or 'none' penalties, \"\n",
      "ValueError: Solver lbfgs supports only 'l2' or 'none' penalties, got l1 penalty.\n",
      "\n",
      "  warnings.warn(\"Estimator fit failed. The score on this train-test\"\n",
      "/Users/piyushchaudhary/opt/anaconda3/lib/python3.8/site-packages/sklearn/model_selection/_validation.py:615: FitFailedWarning: Estimator fit failed. The score on this train-test partition for these parameters will be set to nan. Details: \n",
      "Traceback (most recent call last):\n",
      "  File \"/Users/piyushchaudhary/opt/anaconda3/lib/python3.8/site-packages/sklearn/model_selection/_validation.py\", line 598, in _fit_and_score\n",
      "    estimator.fit(X_train, y_train, **fit_params)\n",
      "  File \"/Users/piyushchaudhary/opt/anaconda3/lib/python3.8/site-packages/sklearn/linear_model/_logistic.py\", line 1306, in fit\n",
      "    solver = _check_solver(self.solver, self.penalty, self.dual)\n",
      "  File \"/Users/piyushchaudhary/opt/anaconda3/lib/python3.8/site-packages/sklearn/linear_model/_logistic.py\", line 443, in _check_solver\n",
      "    raise ValueError(\"Solver %s supports only 'l2' or 'none' penalties, \"\n",
      "ValueError: Solver lbfgs supports only 'l2' or 'none' penalties, got l1 penalty.\n",
      "\n",
      "  warnings.warn(\"Estimator fit failed. The score on this train-test\"\n",
      "/Users/piyushchaudhary/opt/anaconda3/lib/python3.8/site-packages/sklearn/model_selection/_validation.py:615: FitFailedWarning: Estimator fit failed. The score on this train-test partition for these parameters will be set to nan. Details: \n",
      "Traceback (most recent call last):\n",
      "  File \"/Users/piyushchaudhary/opt/anaconda3/lib/python3.8/site-packages/sklearn/model_selection/_validation.py\", line 598, in _fit_and_score\n",
      "    estimator.fit(X_train, y_train, **fit_params)\n",
      "  File \"/Users/piyushchaudhary/opt/anaconda3/lib/python3.8/site-packages/sklearn/linear_model/_logistic.py\", line 1306, in fit\n",
      "    solver = _check_solver(self.solver, self.penalty, self.dual)\n",
      "  File \"/Users/piyushchaudhary/opt/anaconda3/lib/python3.8/site-packages/sklearn/linear_model/_logistic.py\", line 443, in _check_solver\n",
      "    raise ValueError(\"Solver %s supports only 'l2' or 'none' penalties, \"\n",
      "ValueError: Solver lbfgs supports only 'l2' or 'none' penalties, got l1 penalty.\n",
      "\n",
      "  warnings.warn(\"Estimator fit failed. The score on this train-test\"\n",
      "/Users/piyushchaudhary/opt/anaconda3/lib/python3.8/site-packages/sklearn/model_selection/_validation.py:615: FitFailedWarning: Estimator fit failed. The score on this train-test partition for these parameters will be set to nan. Details: \n",
      "Traceback (most recent call last):\n",
      "  File \"/Users/piyushchaudhary/opt/anaconda3/lib/python3.8/site-packages/sklearn/model_selection/_validation.py\", line 598, in _fit_and_score\n",
      "    estimator.fit(X_train, y_train, **fit_params)\n",
      "  File \"/Users/piyushchaudhary/opt/anaconda3/lib/python3.8/site-packages/sklearn/linear_model/_logistic.py\", line 1306, in fit\n",
      "    solver = _check_solver(self.solver, self.penalty, self.dual)\n",
      "  File \"/Users/piyushchaudhary/opt/anaconda3/lib/python3.8/site-packages/sklearn/linear_model/_logistic.py\", line 443, in _check_solver\n",
      "    raise ValueError(\"Solver %s supports only 'l2' or 'none' penalties, \"\n",
      "ValueError: Solver lbfgs supports only 'l2' or 'none' penalties, got l1 penalty.\n",
      "\n",
      "  warnings.warn(\"Estimator fit failed. The score on this train-test\"\n",
      "/Users/piyushchaudhary/opt/anaconda3/lib/python3.8/site-packages/sklearn/model_selection/_validation.py:615: FitFailedWarning: Estimator fit failed. The score on this train-test partition for these parameters will be set to nan. Details: \n",
      "Traceback (most recent call last):\n",
      "  File \"/Users/piyushchaudhary/opt/anaconda3/lib/python3.8/site-packages/sklearn/model_selection/_validation.py\", line 598, in _fit_and_score\n",
      "    estimator.fit(X_train, y_train, **fit_params)\n",
      "  File \"/Users/piyushchaudhary/opt/anaconda3/lib/python3.8/site-packages/sklearn/linear_model/_logistic.py\", line 1306, in fit\n",
      "    solver = _check_solver(self.solver, self.penalty, self.dual)\n",
      "  File \"/Users/piyushchaudhary/opt/anaconda3/lib/python3.8/site-packages/sklearn/linear_model/_logistic.py\", line 443, in _check_solver\n",
      "    raise ValueError(\"Solver %s supports only 'l2' or 'none' penalties, \"\n",
      "ValueError: Solver lbfgs supports only 'l2' or 'none' penalties, got l1 penalty.\n",
      "\n",
      "  warnings.warn(\"Estimator fit failed. The score on this train-test\"\n"
     ]
    },
    {
     "name": "stderr",
     "output_type": "stream",
     "text": [
      "/Users/piyushchaudhary/opt/anaconda3/lib/python3.8/site-packages/sklearn/linear_model/_logistic.py:763: ConvergenceWarning: lbfgs failed to converge (status=1):\n",
      "STOP: TOTAL NO. of ITERATIONS REACHED LIMIT.\n",
      "\n",
      "Increase the number of iterations (max_iter) or scale the data as shown in:\n",
      "    https://scikit-learn.org/stable/modules/preprocessing.html\n",
      "Please also refer to the documentation for alternative solver options:\n",
      "    https://scikit-learn.org/stable/modules/linear_model.html#logistic-regression\n",
      "  n_iter_i = _check_optimize_result(\n",
      "/Users/piyushchaudhary/opt/anaconda3/lib/python3.8/site-packages/sklearn/linear_model/_logistic.py:763: ConvergenceWarning: lbfgs failed to converge (status=1):\n",
      "STOP: TOTAL NO. of ITERATIONS REACHED LIMIT.\n",
      "\n",
      "Increase the number of iterations (max_iter) or scale the data as shown in:\n",
      "    https://scikit-learn.org/stable/modules/preprocessing.html\n",
      "Please also refer to the documentation for alternative solver options:\n",
      "    https://scikit-learn.org/stable/modules/linear_model.html#logistic-regression\n",
      "  n_iter_i = _check_optimize_result(\n",
      "/Users/piyushchaudhary/opt/anaconda3/lib/python3.8/site-packages/sklearn/linear_model/_logistic.py:763: ConvergenceWarning: lbfgs failed to converge (status=1):\n",
      "STOP: TOTAL NO. of ITERATIONS REACHED LIMIT.\n",
      "\n",
      "Increase the number of iterations (max_iter) or scale the data as shown in:\n",
      "    https://scikit-learn.org/stable/modules/preprocessing.html\n",
      "Please also refer to the documentation for alternative solver options:\n",
      "    https://scikit-learn.org/stable/modules/linear_model.html#logistic-regression\n",
      "  n_iter_i = _check_optimize_result(\n",
      "/Users/piyushchaudhary/opt/anaconda3/lib/python3.8/site-packages/sklearn/linear_model/_logistic.py:763: ConvergenceWarning: lbfgs failed to converge (status=1):\n",
      "STOP: TOTAL NO. of ITERATIONS REACHED LIMIT.\n",
      "\n",
      "Increase the number of iterations (max_iter) or scale the data as shown in:\n",
      "    https://scikit-learn.org/stable/modules/preprocessing.html\n",
      "Please also refer to the documentation for alternative solver options:\n",
      "    https://scikit-learn.org/stable/modules/linear_model.html#logistic-regression\n",
      "  n_iter_i = _check_optimize_result(\n",
      "/Users/piyushchaudhary/opt/anaconda3/lib/python3.8/site-packages/sklearn/linear_model/_logistic.py:763: ConvergenceWarning: lbfgs failed to converge (status=1):\n",
      "STOP: TOTAL NO. of ITERATIONS REACHED LIMIT.\n",
      "\n",
      "Increase the number of iterations (max_iter) or scale the data as shown in:\n",
      "    https://scikit-learn.org/stable/modules/preprocessing.html\n",
      "Please also refer to the documentation for alternative solver options:\n",
      "    https://scikit-learn.org/stable/modules/linear_model.html#logistic-regression\n",
      "  n_iter_i = _check_optimize_result(\n",
      "/Users/piyushchaudhary/opt/anaconda3/lib/python3.8/site-packages/sklearn/model_selection/_validation.py:615: FitFailedWarning: Estimator fit failed. The score on this train-test partition for these parameters will be set to nan. Details: \n",
      "Traceback (most recent call last):\n",
      "  File \"/Users/piyushchaudhary/opt/anaconda3/lib/python3.8/site-packages/sklearn/model_selection/_validation.py\", line 598, in _fit_and_score\n",
      "    estimator.fit(X_train, y_train, **fit_params)\n",
      "  File \"/Users/piyushchaudhary/opt/anaconda3/lib/python3.8/site-packages/sklearn/linear_model/_logistic.py\", line 1306, in fit\n",
      "    solver = _check_solver(self.solver, self.penalty, self.dual)\n",
      "  File \"/Users/piyushchaudhary/opt/anaconda3/lib/python3.8/site-packages/sklearn/linear_model/_logistic.py\", line 443, in _check_solver\n",
      "    raise ValueError(\"Solver %s supports only 'l2' or 'none' penalties, \"\n",
      "ValueError: Solver lbfgs supports only 'l2' or 'none' penalties, got l1 penalty.\n",
      "\n",
      "  warnings.warn(\"Estimator fit failed. The score on this train-test\"\n",
      "/Users/piyushchaudhary/opt/anaconda3/lib/python3.8/site-packages/sklearn/model_selection/_validation.py:615: FitFailedWarning: Estimator fit failed. The score on this train-test partition for these parameters will be set to nan. Details: \n",
      "Traceback (most recent call last):\n",
      "  File \"/Users/piyushchaudhary/opt/anaconda3/lib/python3.8/site-packages/sklearn/model_selection/_validation.py\", line 598, in _fit_and_score\n",
      "    estimator.fit(X_train, y_train, **fit_params)\n",
      "  File \"/Users/piyushchaudhary/opt/anaconda3/lib/python3.8/site-packages/sklearn/linear_model/_logistic.py\", line 1306, in fit\n",
      "    solver = _check_solver(self.solver, self.penalty, self.dual)\n",
      "  File \"/Users/piyushchaudhary/opt/anaconda3/lib/python3.8/site-packages/sklearn/linear_model/_logistic.py\", line 443, in _check_solver\n",
      "    raise ValueError(\"Solver %s supports only 'l2' or 'none' penalties, \"\n",
      "ValueError: Solver lbfgs supports only 'l2' or 'none' penalties, got l1 penalty.\n",
      "\n",
      "  warnings.warn(\"Estimator fit failed. The score on this train-test\"\n",
      "/Users/piyushchaudhary/opt/anaconda3/lib/python3.8/site-packages/sklearn/model_selection/_validation.py:615: FitFailedWarning: Estimator fit failed. The score on this train-test partition for these parameters will be set to nan. Details: \n",
      "Traceback (most recent call last):\n",
      "  File \"/Users/piyushchaudhary/opt/anaconda3/lib/python3.8/site-packages/sklearn/model_selection/_validation.py\", line 598, in _fit_and_score\n",
      "    estimator.fit(X_train, y_train, **fit_params)\n",
      "  File \"/Users/piyushchaudhary/opt/anaconda3/lib/python3.8/site-packages/sklearn/linear_model/_logistic.py\", line 1306, in fit\n",
      "    solver = _check_solver(self.solver, self.penalty, self.dual)\n",
      "  File \"/Users/piyushchaudhary/opt/anaconda3/lib/python3.8/site-packages/sklearn/linear_model/_logistic.py\", line 443, in _check_solver\n",
      "    raise ValueError(\"Solver %s supports only 'l2' or 'none' penalties, \"\n",
      "ValueError: Solver lbfgs supports only 'l2' or 'none' penalties, got l1 penalty.\n",
      "\n",
      "  warnings.warn(\"Estimator fit failed. The score on this train-test\"\n",
      "/Users/piyushchaudhary/opt/anaconda3/lib/python3.8/site-packages/sklearn/model_selection/_validation.py:615: FitFailedWarning: Estimator fit failed. The score on this train-test partition for these parameters will be set to nan. Details: \n",
      "Traceback (most recent call last):\n",
      "  File \"/Users/piyushchaudhary/opt/anaconda3/lib/python3.8/site-packages/sklearn/model_selection/_validation.py\", line 598, in _fit_and_score\n",
      "    estimator.fit(X_train, y_train, **fit_params)\n",
      "  File \"/Users/piyushchaudhary/opt/anaconda3/lib/python3.8/site-packages/sklearn/linear_model/_logistic.py\", line 1306, in fit\n",
      "    solver = _check_solver(self.solver, self.penalty, self.dual)\n",
      "  File \"/Users/piyushchaudhary/opt/anaconda3/lib/python3.8/site-packages/sklearn/linear_model/_logistic.py\", line 443, in _check_solver\n",
      "    raise ValueError(\"Solver %s supports only 'l2' or 'none' penalties, \"\n",
      "ValueError: Solver lbfgs supports only 'l2' or 'none' penalties, got l1 penalty.\n",
      "\n",
      "  warnings.warn(\"Estimator fit failed. The score on this train-test\"\n",
      "/Users/piyushchaudhary/opt/anaconda3/lib/python3.8/site-packages/sklearn/model_selection/_validation.py:615: FitFailedWarning: Estimator fit failed. The score on this train-test partition for these parameters will be set to nan. Details: \n",
      "Traceback (most recent call last):\n",
      "  File \"/Users/piyushchaudhary/opt/anaconda3/lib/python3.8/site-packages/sklearn/model_selection/_validation.py\", line 598, in _fit_and_score\n",
      "    estimator.fit(X_train, y_train, **fit_params)\n",
      "  File \"/Users/piyushchaudhary/opt/anaconda3/lib/python3.8/site-packages/sklearn/linear_model/_logistic.py\", line 1306, in fit\n",
      "    solver = _check_solver(self.solver, self.penalty, self.dual)\n",
      "  File \"/Users/piyushchaudhary/opt/anaconda3/lib/python3.8/site-packages/sklearn/linear_model/_logistic.py\", line 443, in _check_solver\n",
      "    raise ValueError(\"Solver %s supports only 'l2' or 'none' penalties, \"\n",
      "ValueError: Solver lbfgs supports only 'l2' or 'none' penalties, got l1 penalty.\n",
      "\n",
      "  warnings.warn(\"Estimator fit failed. The score on this train-test\"\n",
      "/Users/piyushchaudhary/opt/anaconda3/lib/python3.8/site-packages/sklearn/linear_model/_logistic.py:763: ConvergenceWarning: lbfgs failed to converge (status=1):\n",
      "STOP: TOTAL NO. of ITERATIONS REACHED LIMIT.\n",
      "\n",
      "Increase the number of iterations (max_iter) or scale the data as shown in:\n",
      "    https://scikit-learn.org/stable/modules/preprocessing.html\n",
      "Please also refer to the documentation for alternative solver options:\n",
      "    https://scikit-learn.org/stable/modules/linear_model.html#logistic-regression\n",
      "  n_iter_i = _check_optimize_result(\n"
     ]
    },
    {
     "name": "stderr",
     "output_type": "stream",
     "text": [
      "/Users/piyushchaudhary/opt/anaconda3/lib/python3.8/site-packages/sklearn/linear_model/_logistic.py:763: ConvergenceWarning: lbfgs failed to converge (status=1):\n",
      "STOP: TOTAL NO. of ITERATIONS REACHED LIMIT.\n",
      "\n",
      "Increase the number of iterations (max_iter) or scale the data as shown in:\n",
      "    https://scikit-learn.org/stable/modules/preprocessing.html\n",
      "Please also refer to the documentation for alternative solver options:\n",
      "    https://scikit-learn.org/stable/modules/linear_model.html#logistic-regression\n",
      "  n_iter_i = _check_optimize_result(\n",
      "/Users/piyushchaudhary/opt/anaconda3/lib/python3.8/site-packages/sklearn/linear_model/_logistic.py:763: ConvergenceWarning: lbfgs failed to converge (status=1):\n",
      "STOP: TOTAL NO. of ITERATIONS REACHED LIMIT.\n",
      "\n",
      "Increase the number of iterations (max_iter) or scale the data as shown in:\n",
      "    https://scikit-learn.org/stable/modules/preprocessing.html\n",
      "Please also refer to the documentation for alternative solver options:\n",
      "    https://scikit-learn.org/stable/modules/linear_model.html#logistic-regression\n",
      "  n_iter_i = _check_optimize_result(\n",
      "/Users/piyushchaudhary/opt/anaconda3/lib/python3.8/site-packages/sklearn/linear_model/_logistic.py:763: ConvergenceWarning: lbfgs failed to converge (status=1):\n",
      "STOP: TOTAL NO. of ITERATIONS REACHED LIMIT.\n",
      "\n",
      "Increase the number of iterations (max_iter) or scale the data as shown in:\n",
      "    https://scikit-learn.org/stable/modules/preprocessing.html\n",
      "Please also refer to the documentation for alternative solver options:\n",
      "    https://scikit-learn.org/stable/modules/linear_model.html#logistic-regression\n",
      "  n_iter_i = _check_optimize_result(\n",
      "/Users/piyushchaudhary/opt/anaconda3/lib/python3.8/site-packages/sklearn/linear_model/_logistic.py:763: ConvergenceWarning: lbfgs failed to converge (status=1):\n",
      "STOP: TOTAL NO. of ITERATIONS REACHED LIMIT.\n",
      "\n",
      "Increase the number of iterations (max_iter) or scale the data as shown in:\n",
      "    https://scikit-learn.org/stable/modules/preprocessing.html\n",
      "Please also refer to the documentation for alternative solver options:\n",
      "    https://scikit-learn.org/stable/modules/linear_model.html#logistic-regression\n",
      "  n_iter_i = _check_optimize_result(\n",
      "/Users/piyushchaudhary/opt/anaconda3/lib/python3.8/site-packages/sklearn/model_selection/_validation.py:615: FitFailedWarning: Estimator fit failed. The score on this train-test partition for these parameters will be set to nan. Details: \n",
      "Traceback (most recent call last):\n",
      "  File \"/Users/piyushchaudhary/opt/anaconda3/lib/python3.8/site-packages/sklearn/model_selection/_validation.py\", line 598, in _fit_and_score\n",
      "    estimator.fit(X_train, y_train, **fit_params)\n",
      "  File \"/Users/piyushchaudhary/opt/anaconda3/lib/python3.8/site-packages/sklearn/linear_model/_logistic.py\", line 1306, in fit\n",
      "    solver = _check_solver(self.solver, self.penalty, self.dual)\n",
      "  File \"/Users/piyushchaudhary/opt/anaconda3/lib/python3.8/site-packages/sklearn/linear_model/_logistic.py\", line 443, in _check_solver\n",
      "    raise ValueError(\"Solver %s supports only 'l2' or 'none' penalties, \"\n",
      "ValueError: Solver lbfgs supports only 'l2' or 'none' penalties, got l1 penalty.\n",
      "\n",
      "  warnings.warn(\"Estimator fit failed. The score on this train-test\"\n",
      "/Users/piyushchaudhary/opt/anaconda3/lib/python3.8/site-packages/sklearn/model_selection/_validation.py:615: FitFailedWarning: Estimator fit failed. The score on this train-test partition for these parameters will be set to nan. Details: \n",
      "Traceback (most recent call last):\n",
      "  File \"/Users/piyushchaudhary/opt/anaconda3/lib/python3.8/site-packages/sklearn/model_selection/_validation.py\", line 598, in _fit_and_score\n",
      "    estimator.fit(X_train, y_train, **fit_params)\n",
      "  File \"/Users/piyushchaudhary/opt/anaconda3/lib/python3.8/site-packages/sklearn/linear_model/_logistic.py\", line 1306, in fit\n",
      "    solver = _check_solver(self.solver, self.penalty, self.dual)\n",
      "  File \"/Users/piyushchaudhary/opt/anaconda3/lib/python3.8/site-packages/sklearn/linear_model/_logistic.py\", line 443, in _check_solver\n",
      "    raise ValueError(\"Solver %s supports only 'l2' or 'none' penalties, \"\n",
      "ValueError: Solver lbfgs supports only 'l2' or 'none' penalties, got l1 penalty.\n",
      "\n",
      "  warnings.warn(\"Estimator fit failed. The score on this train-test\"\n",
      "/Users/piyushchaudhary/opt/anaconda3/lib/python3.8/site-packages/sklearn/model_selection/_validation.py:615: FitFailedWarning: Estimator fit failed. The score on this train-test partition for these parameters will be set to nan. Details: \n",
      "Traceback (most recent call last):\n",
      "  File \"/Users/piyushchaudhary/opt/anaconda3/lib/python3.8/site-packages/sklearn/model_selection/_validation.py\", line 598, in _fit_and_score\n",
      "    estimator.fit(X_train, y_train, **fit_params)\n",
      "  File \"/Users/piyushchaudhary/opt/anaconda3/lib/python3.8/site-packages/sklearn/linear_model/_logistic.py\", line 1306, in fit\n",
      "    solver = _check_solver(self.solver, self.penalty, self.dual)\n",
      "  File \"/Users/piyushchaudhary/opt/anaconda3/lib/python3.8/site-packages/sklearn/linear_model/_logistic.py\", line 443, in _check_solver\n",
      "    raise ValueError(\"Solver %s supports only 'l2' or 'none' penalties, \"\n",
      "ValueError: Solver lbfgs supports only 'l2' or 'none' penalties, got l1 penalty.\n",
      "\n",
      "  warnings.warn(\"Estimator fit failed. The score on this train-test\"\n",
      "/Users/piyushchaudhary/opt/anaconda3/lib/python3.8/site-packages/sklearn/model_selection/_validation.py:615: FitFailedWarning: Estimator fit failed. The score on this train-test partition for these parameters will be set to nan. Details: \n",
      "Traceback (most recent call last):\n",
      "  File \"/Users/piyushchaudhary/opt/anaconda3/lib/python3.8/site-packages/sklearn/model_selection/_validation.py\", line 598, in _fit_and_score\n",
      "    estimator.fit(X_train, y_train, **fit_params)\n",
      "  File \"/Users/piyushchaudhary/opt/anaconda3/lib/python3.8/site-packages/sklearn/linear_model/_logistic.py\", line 1306, in fit\n",
      "    solver = _check_solver(self.solver, self.penalty, self.dual)\n",
      "  File \"/Users/piyushchaudhary/opt/anaconda3/lib/python3.8/site-packages/sklearn/linear_model/_logistic.py\", line 443, in _check_solver\n",
      "    raise ValueError(\"Solver %s supports only 'l2' or 'none' penalties, \"\n",
      "ValueError: Solver lbfgs supports only 'l2' or 'none' penalties, got l1 penalty.\n",
      "\n",
      "  warnings.warn(\"Estimator fit failed. The score on this train-test\"\n",
      "/Users/piyushchaudhary/opt/anaconda3/lib/python3.8/site-packages/sklearn/model_selection/_validation.py:615: FitFailedWarning: Estimator fit failed. The score on this train-test partition for these parameters will be set to nan. Details: \n",
      "Traceback (most recent call last):\n",
      "  File \"/Users/piyushchaudhary/opt/anaconda3/lib/python3.8/site-packages/sklearn/model_selection/_validation.py\", line 598, in _fit_and_score\n",
      "    estimator.fit(X_train, y_train, **fit_params)\n",
      "  File \"/Users/piyushchaudhary/opt/anaconda3/lib/python3.8/site-packages/sklearn/linear_model/_logistic.py\", line 1306, in fit\n",
      "    solver = _check_solver(self.solver, self.penalty, self.dual)\n",
      "  File \"/Users/piyushchaudhary/opt/anaconda3/lib/python3.8/site-packages/sklearn/linear_model/_logistic.py\", line 443, in _check_solver\n",
      "    raise ValueError(\"Solver %s supports only 'l2' or 'none' penalties, \"\n",
      "ValueError: Solver lbfgs supports only 'l2' or 'none' penalties, got l1 penalty.\n",
      "\n",
      "  warnings.warn(\"Estimator fit failed. The score on this train-test\"\n",
      "/Users/piyushchaudhary/opt/anaconda3/lib/python3.8/site-packages/sklearn/linear_model/_logistic.py:763: ConvergenceWarning: lbfgs failed to converge (status=1):\n",
      "STOP: TOTAL NO. of ITERATIONS REACHED LIMIT.\n",
      "\n",
      "Increase the number of iterations (max_iter) or scale the data as shown in:\n",
      "    https://scikit-learn.org/stable/modules/preprocessing.html\n",
      "Please also refer to the documentation for alternative solver options:\n",
      "    https://scikit-learn.org/stable/modules/linear_model.html#logistic-regression\n",
      "  n_iter_i = _check_optimize_result(\n",
      "/Users/piyushchaudhary/opt/anaconda3/lib/python3.8/site-packages/sklearn/model_selection/_validation.py:615: FitFailedWarning: Estimator fit failed. The score on this train-test partition for these parameters will be set to nan. Details: \n",
      "Traceback (most recent call last):\n",
      "  File \"/Users/piyushchaudhary/opt/anaconda3/lib/python3.8/site-packages/sklearn/model_selection/_validation.py\", line 598, in _fit_and_score\n",
      "    estimator.fit(X_train, y_train, **fit_params)\n",
      "  File \"/Users/piyushchaudhary/opt/anaconda3/lib/python3.8/site-packages/sklearn/linear_model/_logistic.py\", line 1306, in fit\n",
      "    solver = _check_solver(self.solver, self.penalty, self.dual)\n",
      "  File \"/Users/piyushchaudhary/opt/anaconda3/lib/python3.8/site-packages/sklearn/linear_model/_logistic.py\", line 443, in _check_solver\n",
      "    raise ValueError(\"Solver %s supports only 'l2' or 'none' penalties, \"\n",
      "ValueError: Solver lbfgs supports only 'l2' or 'none' penalties, got l1 penalty.\n",
      "\n",
      "  warnings.warn(\"Estimator fit failed. The score on this train-test\"\n",
      "/Users/piyushchaudhary/opt/anaconda3/lib/python3.8/site-packages/sklearn/model_selection/_validation.py:615: FitFailedWarning: Estimator fit failed. The score on this train-test partition for these parameters will be set to nan. Details: \n",
      "Traceback (most recent call last):\n",
      "  File \"/Users/piyushchaudhary/opt/anaconda3/lib/python3.8/site-packages/sklearn/model_selection/_validation.py\", line 598, in _fit_and_score\n",
      "    estimator.fit(X_train, y_train, **fit_params)\n",
      "  File \"/Users/piyushchaudhary/opt/anaconda3/lib/python3.8/site-packages/sklearn/linear_model/_logistic.py\", line 1306, in fit\n",
      "    solver = _check_solver(self.solver, self.penalty, self.dual)\n",
      "  File \"/Users/piyushchaudhary/opt/anaconda3/lib/python3.8/site-packages/sklearn/linear_model/_logistic.py\", line 443, in _check_solver\n",
      "    raise ValueError(\"Solver %s supports only 'l2' or 'none' penalties, \"\n",
      "ValueError: Solver lbfgs supports only 'l2' or 'none' penalties, got l1 penalty.\n",
      "\n",
      "  warnings.warn(\"Estimator fit failed. The score on this train-test\"\n",
      "/Users/piyushchaudhary/opt/anaconda3/lib/python3.8/site-packages/sklearn/model_selection/_validation.py:615: FitFailedWarning: Estimator fit failed. The score on this train-test partition for these parameters will be set to nan. Details: \n",
      "Traceback (most recent call last):\n",
      "  File \"/Users/piyushchaudhary/opt/anaconda3/lib/python3.8/site-packages/sklearn/model_selection/_validation.py\", line 598, in _fit_and_score\n",
      "    estimator.fit(X_train, y_train, **fit_params)\n",
      "  File \"/Users/piyushchaudhary/opt/anaconda3/lib/python3.8/site-packages/sklearn/linear_model/_logistic.py\", line 1306, in fit\n",
      "    solver = _check_solver(self.solver, self.penalty, self.dual)\n",
      "  File \"/Users/piyushchaudhary/opt/anaconda3/lib/python3.8/site-packages/sklearn/linear_model/_logistic.py\", line 443, in _check_solver\n",
      "    raise ValueError(\"Solver %s supports only 'l2' or 'none' penalties, \"\n",
      "ValueError: Solver lbfgs supports only 'l2' or 'none' penalties, got l1 penalty.\n",
      "\n",
      "  warnings.warn(\"Estimator fit failed. The score on this train-test\"\n",
      "/Users/piyushchaudhary/opt/anaconda3/lib/python3.8/site-packages/sklearn/model_selection/_validation.py:615: FitFailedWarning: Estimator fit failed. The score on this train-test partition for these parameters will be set to nan. Details: \n",
      "Traceback (most recent call last):\n",
      "  File \"/Users/piyushchaudhary/opt/anaconda3/lib/python3.8/site-packages/sklearn/model_selection/_validation.py\", line 598, in _fit_and_score\n",
      "    estimator.fit(X_train, y_train, **fit_params)\n",
      "  File \"/Users/piyushchaudhary/opt/anaconda3/lib/python3.8/site-packages/sklearn/linear_model/_logistic.py\", line 1306, in fit\n",
      "    solver = _check_solver(self.solver, self.penalty, self.dual)\n",
      "  File \"/Users/piyushchaudhary/opt/anaconda3/lib/python3.8/site-packages/sklearn/linear_model/_logistic.py\", line 443, in _check_solver\n",
      "    raise ValueError(\"Solver %s supports only 'l2' or 'none' penalties, \"\n",
      "ValueError: Solver lbfgs supports only 'l2' or 'none' penalties, got l1 penalty.\n",
      "\n",
      "  warnings.warn(\"Estimator fit failed. The score on this train-test\"\n",
      "/Users/piyushchaudhary/opt/anaconda3/lib/python3.8/site-packages/sklearn/model_selection/_validation.py:615: FitFailedWarning: Estimator fit failed. The score on this train-test partition for these parameters will be set to nan. Details: \n",
      "Traceback (most recent call last):\n",
      "  File \"/Users/piyushchaudhary/opt/anaconda3/lib/python3.8/site-packages/sklearn/model_selection/_validation.py\", line 598, in _fit_and_score\n",
      "    estimator.fit(X_train, y_train, **fit_params)\n",
      "  File \"/Users/piyushchaudhary/opt/anaconda3/lib/python3.8/site-packages/sklearn/linear_model/_logistic.py\", line 1306, in fit\n",
      "    solver = _check_solver(self.solver, self.penalty, self.dual)\n",
      "  File \"/Users/piyushchaudhary/opt/anaconda3/lib/python3.8/site-packages/sklearn/linear_model/_logistic.py\", line 443, in _check_solver\n",
      "    raise ValueError(\"Solver %s supports only 'l2' or 'none' penalties, \"\n",
      "ValueError: Solver lbfgs supports only 'l2' or 'none' penalties, got l1 penalty.\n",
      "\n",
      "  warnings.warn(\"Estimator fit failed. The score on this train-test\"\n"
     ]
    },
    {
     "name": "stderr",
     "output_type": "stream",
     "text": [
      "/Users/piyushchaudhary/opt/anaconda3/lib/python3.8/site-packages/sklearn/model_selection/_search.py:922: UserWarning: One or more of the test scores are non-finite: [       nan 0.29552808        nan 0.29552808        nan 0.29552808\n",
      "        nan 0.29552808        nan 0.29552808]\n",
      "  warnings.warn(\n",
      "/Users/piyushchaudhary/opt/anaconda3/lib/python3.8/site-packages/sklearn/model_selection/_search.py:922: UserWarning: One or more of the train scores are non-finite: [       nan 0.29552808        nan 0.29552808        nan 0.29552808\n",
      "        nan 0.29552808        nan 0.29552808]\n",
      "  warnings.warn(\n"
     ]
    },
    {
     "name": "stdout",
     "output_type": "stream",
     "text": [
      "Took 9.335018157958984 seconds\n"
     ]
    },
    {
     "name": "stderr",
     "output_type": "stream",
     "text": [
      "/Users/piyushchaudhary/opt/anaconda3/lib/python3.8/site-packages/sklearn/linear_model/_logistic.py:763: ConvergenceWarning: lbfgs failed to converge (status=1):\n",
      "STOP: TOTAL NO. of ITERATIONS REACHED LIMIT.\n",
      "\n",
      "Increase the number of iterations (max_iter) or scale the data as shown in:\n",
      "    https://scikit-learn.org/stable/modules/preprocessing.html\n",
      "Please also refer to the documentation for alternative solver options:\n",
      "    https://scikit-learn.org/stable/modules/linear_model.html#logistic-regression\n",
      "  n_iter_i = _check_optimize_result(\n"
     ]
    }
   ],
   "source": [
    "#Importing Grid search library functions\n",
    "from sklearn.model_selection import GridSearchCV\n",
    "from sklearn.linear_model import LogisticRegression\n",
    "\n",
    "# specifying the hyperparameter\n",
    "grid={\"C\":[100,10,1.0,0.1,0.01],\"penalty\":[\"l1\",\"l2\"]}# l1 lasso l2 ridge\n",
    "\n",
    "#loading LogisticRegression\n",
    "logreg=LogisticRegression()\n",
    "\n",
    "# 5 fold cross validation used\n",
    "logreg_cv=GridSearchCV(logreg,grid,cv=5,\n",
    "                      scoring='f1_macro', \n",
    "                      return_train_score=True) \n",
    "\n",
    "start = time.time()\n",
    "logreg_cv.fit(Xtrain,ytrain)\n",
    "end = time.time() - start\n",
    "print(f\"Took {end} seconds\")"
   ]
  },
  {
   "cell_type": "code",
   "execution_count": 9,
   "metadata": {},
   "outputs": [
    {
     "data": {
      "text/plain": [
       "LogisticRegression(C=100)"
      ]
     },
     "execution_count": 9,
     "metadata": {},
     "output_type": "execute_result"
    }
   ],
   "source": [
    "#displaying best estimators for logistic regression\n",
    "logreg_cv.best_estimator_\n"
   ]
  },
  {
   "cell_type": "markdown",
   "metadata": {},
   "source": [
    "**Using Grid-search we found that Best estimator for logistic regression is (c=100)**"
   ]
  },
  {
   "cell_type": "code",
   "execution_count": 10,
   "metadata": {},
   "outputs": [
    {
     "data": {
      "text/plain": [
       "0.29552808431814326"
      ]
     },
     "execution_count": 10,
     "metadata": {},
     "output_type": "execute_result"
    }
   ],
   "source": [
    "#Displaying the best score\n",
    "logreg_cv.best_score_"
   ]
  },
  {
   "cell_type": "markdown",
   "metadata": {},
   "source": [
    "The achieve the F-score of **0.295**,which is not a good score and it is equal to the basline model result which was **0.295**. One of the reason for low score could be imbalanced data or may be this model is not suited for this dataset."
   ]
  },
  {
   "cell_type": "code",
   "execution_count": 11,
   "metadata": {},
   "outputs": [
    {
     "data": {
      "text/plain": [
       "1"
      ]
     },
     "execution_count": 11,
     "metadata": {},
     "output_type": "execute_result"
    }
   ],
   "source": [
    "#displyaing rank of best performing model\n",
    "logreg_cv.cv_results_[\"rank_test_score\"].tolist().index(1)"
   ]
  },
  {
   "cell_type": "code",
   "execution_count": 12,
   "metadata": {},
   "outputs": [],
   "source": [
    "#This code will store the best model in each split for future use.\n",
    "log_split_test_scores = []\n",
    "for x in range(5):\n",
    "    \n",
    "# extract f-score of the best model (index=1) from each of the 5 splits \n",
    "    val = logreg_cv.cv_results_[f\"split{x}_test_score\"][1] \n",
    "    log_split_test_scores.append(val)"
   ]
  },
  {
   "cell_type": "code",
   "execution_count": 13,
   "metadata": {},
   "outputs": [
    {
     "name": "stdout",
     "output_type": "stream",
     "text": [
      "nan nan {'C': 100, 'penalty': 'l1'}\n",
      "0.29552808431814326 0.29552808265629865 {'C': 100, 'penalty': 'l2'}\n",
      "nan nan {'C': 10, 'penalty': 'l1'}\n",
      "0.29552808431814326 0.29552808265629865 {'C': 10, 'penalty': 'l2'}\n",
      "nan nan {'C': 1.0, 'penalty': 'l1'}\n",
      "0.29552808431814326 0.29552808265629865 {'C': 1.0, 'penalty': 'l2'}\n",
      "nan nan {'C': 0.1, 'penalty': 'l1'}\n",
      "0.29552808431814326 0.29552808265629865 {'C': 0.1, 'penalty': 'l2'}\n",
      "nan nan {'C': 0.01, 'penalty': 'l1'}\n",
      "0.29552808431814326 0.29552808265629865 {'C': 0.01, 'penalty': 'l2'}\n"
     ]
    }
   ],
   "source": [
    "#Now cross validating our results(the score achieved in train score with validation score)\n",
    "val_scores = logreg_cv.cv_results_[\"mean_test_score\"]\n",
    "train_scores = logreg_cv.cv_results_[\"mean_train_score\"]\n",
    "params = [str(x) for x in logreg_cv.cv_results_[\"params\"]]\n",
    "\n",
    "for val_score, train_score, param in sorted(zip(val_scores, train_scores, params), reverse=True):\n",
    "    print(val_score, train_score, param)"
   ]
  },
  {
   "cell_type": "markdown",
   "metadata": {},
   "source": [
    "**Now we can see the score is almost same for train and validation set in almost all parameters and there is no sign of underfitting and overfitting**"
   ]
  },
  {
   "cell_type": "code",
   "execution_count": 14,
   "metadata": {},
   "outputs": [
    {
     "data": {
      "text/plain": [
       "['models/lr-clf.joblib']"
      ]
     },
     "execution_count": 14,
     "metadata": {},
     "output_type": "execute_result"
    }
   ],
   "source": [
    "import os\n",
    "from joblib import dump\n",
    "\n",
    "# create a folder where all trained models will be kept\n",
    "if not os.path.exists(\"models\"):\n",
    "    os.makedirs(\"models\")\n",
    "    \n",
    "dump(logreg_cv.best_estimator_, 'models/lr-clf.joblib')"
   ]
  },
  {
   "cell_type": "markdown",
   "metadata": {},
   "source": [
    "## 2.3 Random Forest Model using Grid Search\n",
    "**We are using grid serach CV library function, it helps in getting best model by doing Hyperparameter tunning automatically on mentioned parameters and gives us the best parameters.**"
   ]
  },
  {
   "cell_type": "code",
   "execution_count": 15,
   "metadata": {},
   "outputs": [
    {
     "name": "stdout",
     "output_type": "stream",
     "text": [
      "Took 153.51374888420105 seconds\n"
     ]
    }
   ],
   "source": [
    "#Importing Grid search library functions\n",
    "from sklearn.model_selection import GridSearchCV\n",
    "from sklearn.ensemble import RandomForestClassifier\n",
    "\n",
    "#Loading RandomForestClassifier\n",
    "rf = RandomForestClassifier()\n",
    "\n",
    "# specify the hyperparameters and their values\n",
    "# 4 x 3 x 2 = 24 combinations in the grid\n",
    "param_grid = {\n",
    "    'n_estimators': [10, 100, 200, 1000],\n",
    "    'max_depth': [3, 5, 15],\n",
    "    'min_samples_split': [5, 10],\n",
    "    'random_state': [7]\n",
    "}\n",
    "\n",
    "# we'll use 5-fold cross-validation\n",
    "grid_search = GridSearchCV(rf, param_grid, cv=5,\n",
    "                           scoring='f1_macro', \n",
    "                           return_train_score=True) \n",
    "\n",
    "start = time.time()\n",
    "grid_search.fit(Xtrain, ytrain)\n",
    "end = time.time() - start\n",
    "print(f\"Took {end} seconds\")"
   ]
  },
  {
   "cell_type": "code",
   "execution_count": 16,
   "metadata": {},
   "outputs": [
    {
     "data": {
      "text/plain": [
       "RandomForestClassifier(max_depth=15, min_samples_split=5, n_estimators=10,\n",
       "                       random_state=7)"
      ]
     },
     "execution_count": 16,
     "metadata": {},
     "output_type": "execute_result"
    }
   ],
   "source": [
    "#Displaying the best estimators\n",
    "grid_search.best_estimator_"
   ]
  },
  {
   "cell_type": "markdown",
   "metadata": {},
   "source": [
    "**The best hyperparameters prove to be `n_estimators=10`, `max_depth=15` and `min_sample_split=5`. They achieve the F-score of **0.299**,which is not a good score but still slightly better than basline model which was **0.295**."
   ]
  },
  {
   "cell_type": "code",
   "execution_count": 17,
   "metadata": {},
   "outputs": [
    {
     "data": {
      "text/plain": [
       "0.2992230800456154"
      ]
     },
     "execution_count": 17,
     "metadata": {},
     "output_type": "execute_result"
    }
   ],
   "source": [
    "#Displaying the best result of this algoritham\n",
    "grid_search.best_score_"
   ]
  },
  {
   "cell_type": "code",
   "execution_count": 18,
   "metadata": {},
   "outputs": [
    {
     "data": {
      "text/plain": [
       "16"
      ]
     },
     "execution_count": 18,
     "metadata": {},
     "output_type": "execute_result"
    }
   ],
   "source": [
    "#This code will generate the rank of best performing model in this algoritham.\n",
    "grid_search.cv_results_[\"rank_test_score\"].tolist().index(1)"
   ]
  },
  {
   "cell_type": "code",
   "execution_count": 19,
   "metadata": {},
   "outputs": [],
   "source": [
    "#This code will store the best model in each split for future use.\n",
    "rf_split_test_scores = []\n",
    "for x in range(5):\n",
    "    # extract f-score of the best model (index=18) from each of the 5 splits\n",
    "    val = grid_search.cv_results_[f\"split{x}_test_score\"][16]\n",
    "    rf_split_test_scores.append(val)"
   ]
  },
  {
   "cell_type": "code",
   "execution_count": 20,
   "metadata": {},
   "outputs": [
    {
     "name": "stdout",
     "output_type": "stream",
     "text": [
      "0.2992230800456154 0.3339597346850811 {'max_depth': 15, 'min_samples_split': 5, 'n_estimators': 10, 'random_state': 7}\n",
      "0.2970797295101349 0.31688327264368665 {'max_depth': 15, 'min_samples_split': 5, 'n_estimators': 200, 'random_state': 7}\n",
      "0.2967758932271479 0.31724248463870597 {'max_depth': 15, 'min_samples_split': 5, 'n_estimators': 100, 'random_state': 7}\n",
      "0.29667088374061673 0.31481074470674064 {'max_depth': 15, 'min_samples_split': 5, 'n_estimators': 1000, 'random_state': 7}\n",
      "0.29614222618672814 0.30723721338988996 {'max_depth': 15, 'min_samples_split': 10, 'n_estimators': 10, 'random_state': 7}\n",
      "0.2959162656608636 0.30066156005350353 {'max_depth': 15, 'min_samples_split': 10, 'n_estimators': 200, 'random_state': 7}\n",
      "0.29586841738895864 0.30190980346264534 {'max_depth': 15, 'min_samples_split': 10, 'n_estimators': 100, 'random_state': 7}\n",
      "0.2957090978489833 0.3006620231987386 {'max_depth': 15, 'min_samples_split': 10, 'n_estimators': 1000, 'random_state': 7}\n",
      "0.29552808431814326 0.2956835143992186 {'max_depth': 5, 'min_samples_split': 5, 'n_estimators': 10, 'random_state': 7}\n",
      "0.29552808431814326 0.29552808265629865 {'max_depth': 5, 'min_samples_split': 5, 'n_estimators': 200, 'random_state': 7}\n",
      "0.29552808431814326 0.29552808265629865 {'max_depth': 5, 'min_samples_split': 5, 'n_estimators': 1000, 'random_state': 7}\n",
      "0.29552808431814326 0.29552808265629865 {'max_depth': 5, 'min_samples_split': 5, 'n_estimators': 100, 'random_state': 7}\n",
      "0.29552808431814326 0.29552808265629865 {'max_depth': 5, 'min_samples_split': 10, 'n_estimators': 200, 'random_state': 7}\n",
      "0.29552808431814326 0.29552808265629865 {'max_depth': 5, 'min_samples_split': 10, 'n_estimators': 1000, 'random_state': 7}\n",
      "0.29552808431814326 0.29552808265629865 {'max_depth': 5, 'min_samples_split': 10, 'n_estimators': 100, 'random_state': 7}\n",
      "0.29552808431814326 0.29552808265629865 {'max_depth': 5, 'min_samples_split': 10, 'n_estimators': 10, 'random_state': 7}\n",
      "0.29552808431814326 0.29552808265629865 {'max_depth': 3, 'min_samples_split': 5, 'n_estimators': 200, 'random_state': 7}\n",
      "0.29552808431814326 0.29552808265629865 {'max_depth': 3, 'min_samples_split': 5, 'n_estimators': 1000, 'random_state': 7}\n",
      "0.29552808431814326 0.29552808265629865 {'max_depth': 3, 'min_samples_split': 5, 'n_estimators': 100, 'random_state': 7}\n",
      "0.29552808431814326 0.29552808265629865 {'max_depth': 3, 'min_samples_split': 5, 'n_estimators': 10, 'random_state': 7}\n",
      "0.29552808431814326 0.29552808265629865 {'max_depth': 3, 'min_samples_split': 10, 'n_estimators': 200, 'random_state': 7}\n",
      "0.29552808431814326 0.29552808265629865 {'max_depth': 3, 'min_samples_split': 10, 'n_estimators': 1000, 'random_state': 7}\n",
      "0.29552808431814326 0.29552808265629865 {'max_depth': 3, 'min_samples_split': 10, 'n_estimators': 100, 'random_state': 7}\n",
      "0.29552808431814326 0.29552808265629865 {'max_depth': 3, 'min_samples_split': 10, 'n_estimators': 10, 'random_state': 7}\n"
     ]
    }
   ],
   "source": [
    "#This code will generate all results of random forest with all parameters for further analysis\n",
    "val_scores = grid_search.cv_results_[\"mean_test_score\"]\n",
    "train_scores = grid_search.cv_results_[\"mean_train_score\"]\n",
    "params = [str(x) for x in grid_search.cv_results_[\"params\"]]\n",
    "\n",
    "for val_score, train_score, param in sorted(zip(val_scores, train_scores, params), reverse=True):\n",
    "    print(val_score, train_score, param)"
   ]
  },
  {
   "cell_type": "markdown",
   "metadata": {},
   "source": [
    "#### we can see above that F-score almost remain the same for max_depth 3 to 15, but the best score was at max_depth 15 and n_estimators 10. However, at higher values of this hyperparameter, we notice some evidence of overfitting: the performance on training parts is slightly better than on the validation part."
   ]
  },
  {
   "cell_type": "code",
   "execution_count": 21,
   "metadata": {},
   "outputs": [
    {
     "name": "stdout",
     "output_type": "stream",
     "text": [
      "Night: 0.09488051450906831\n",
      "Wet: 0.08907322821499625\n",
      "Urban: 0.06617088307234317\n",
      "Raining: 0.06515094151981839\n",
      "Daylight: 0.061746347207961835\n",
      "Sunday: 0.043626772599536255\n",
      "Visible: 0.03938980842474845\n",
      "No High Winds: 0.039206221054966746\n",
      "Saturday: 0.035450856223896945\n",
      "Other: 0.03511784436187076\n",
      "Tuesday: 0.034277446506207954\n",
      "Thursday: 0.03420119187786092\n",
      "Monday: 0.0300314351296972\n",
      "Wednesday: 0.028331745216058062\n",
      "October: 0.02616762575077648\n",
      "September: 0.02478768409291058\n",
      "March: 0.023817534149787274\n",
      "November: 0.023166718604556238\n",
      "December: 0.02194169088622779\n",
      "August: 0.02028114475258125\n",
      "January: 0.01833162017016314\n",
      "February: 0.01804118415444334\n",
      "July: 0.017917331771007895\n",
      "Frost: 0.01714938233604834\n",
      "June: 0.017066501816935625\n",
      "Darkness with lights unlit: 0.0168185162665959\n",
      "May: 0.01587744234803188\n",
      "Darkness with no lighting: 0.013716845438261061\n",
      "Fog or mist: 0.012964633082942998\n",
      "Snowing: 0.007721045575954828\n",
      "Flood: 0.00468953379225679\n",
      "Snow: 0.002888329091487357\n",
      "Number_of_Casualties: 0.0\n"
     ]
    }
   ],
   "source": [
    "# put them into a separate variable for convenience\n",
    "feature_importances = grid_search.best_estimator_.feature_importances_\n",
    "\n",
    "# the order of the features in `feature_importances` is the same as in the Xtrain dataframe,\n",
    "# so we can \"zip\" the two and print in the descending order:\n",
    "\n",
    "for k, v in sorted(zip(feature_importances, Xtrain.columns), reverse=True):\n",
    "    print(f\"{v}: {k}\")"
   ]
  },
  {
   "cell_type": "markdown",
   "metadata": {},
   "source": [
    "#### The important feature for this model are area(Urban) Road condition(wet) and Time(Night) and least important features are Number_of_Casualties, Months(jan-december)etc."
   ]
  },
  {
   "cell_type": "code",
   "execution_count": 22,
   "metadata": {},
   "outputs": [
    {
     "data": {
      "text/plain": [
       "['models/rf-clf.joblib']"
      ]
     },
     "execution_count": 22,
     "metadata": {},
     "output_type": "execute_result"
    }
   ],
   "source": [
    "#This code is storing the model in \"joblib\" function for future reference, as again running the model \n",
    "#from scratch will be very time consuming, so to save time we are doing this\n",
    "import os\n",
    "from joblib import dump\n",
    "\n",
    "# create a folder where all trained models will be kept\n",
    "if not os.path.exists(\"models\"):\n",
    "    os.makedirs(\"models\")\n",
    "    \n",
    "dump(grid_search.best_estimator_, 'models/rf-clf.joblib')"
   ]
  },
  {
   "cell_type": "markdown",
   "metadata": {},
   "source": [
    "## 2.4 Random Forest Model with Over Sampling Using Grid Search\n",
    "**We are using grid serach CV library function, it helps in getting best model by doing Hyperparameter tunning automatically on mentioned parameters and gives us the best parameters.**\n",
    "\n",
    "As our data is highly imbalanced so this may be the reason the models are not performing well so we will try to balance the data with SMOTE technique.\n",
    "\n",
    "Classic Oversampling-In this sampling the data which is less is duplicated increasing the total number of data and does not give any new information, and it is very Time consuming if the data is too large. \n",
    "\n",
    "SMOTE - Synthetic Minority Oversampling Technique\n",
    "\n",
    "This technique is used for oversampling the data but different from classic oversampling technique.This uses K-nearest neighbour algoritham.In this technique the dataset of minority class will be made equal to majority class."
   ]
  },
  {
   "cell_type": "code",
   "execution_count": 23,
   "metadata": {},
   "outputs": [],
   "source": [
    "#For oversampling of Target variable we are using smote\n",
    "from imblearn.over_sampling import SMOTE"
   ]
  },
  {
   "cell_type": "code",
   "execution_count": 24,
   "metadata": {},
   "outputs": [],
   "source": [
    "#Giving all values equal to majority class to all three categories in our target variable\n",
    "df = SMOTE(random_state = 3, sampling_strategy= {\"Fatal\":14020,\"Serious\":14020, \"Slight\":14020})"
   ]
  },
  {
   "cell_type": "code",
   "execution_count": 25,
   "metadata": {},
   "outputs": [
    {
     "data": {
      "text/plain": [
       "SMOTE(random_state=3,\n",
       "      sampling_strategy={'Fatal': 14020, 'Serious': 14020, 'Slight': 14020})"
      ]
     },
     "execution_count": 25,
     "metadata": {},
     "output_type": "execute_result"
    }
   ],
   "source": [
    "#Displaying the results\n",
    "df"
   ]
  },
  {
   "cell_type": "code",
   "execution_count": 26,
   "metadata": {},
   "outputs": [],
   "source": [
    "#Reshaping the data and creating \"Xtrain_o\" and \"ytrain_o\"\n",
    "Xtrain_o, ytrain_o = df.fit_resample(Xtrain,ytrain)"
   ]
  },
  {
   "cell_type": "code",
   "execution_count": 27,
   "metadata": {},
   "outputs": [
    {
     "name": "stdout",
     "output_type": "stream",
     "text": [
      "Took 405.24688720703125 seconds\n"
     ]
    }
   ],
   "source": [
    "from sklearn.model_selection import GridSearchCV\n",
    "\n",
    "\n",
    "#importing RandomForestClassifier library function\n",
    "from sklearn.ensemble import RandomForestClassifier\n",
    "\n",
    "#Loading RandomForestClassifier\n",
    "rf = RandomForestClassifier()\n",
    "\n",
    "# specify the hyperparameters and their values\n",
    "# 4 x 3 x 2 = 24 combinations in the grid\n",
    "param_grid = {\n",
    "    'n_estimators': [10, 100, 200, 1000],\n",
    "    'max_depth': [3, 5, 15],\n",
    "    'min_samples_split': [5, 10],\n",
    "    'random_state': [7]\n",
    "}\n",
    "\n",
    "# we'll use 5-fold cross-validation\n",
    "grid_search_o = GridSearchCV(rf, param_grid, cv=5,\n",
    "                           scoring='f1_macro', \n",
    "                           return_train_score=True) \n",
    "\n",
    "start = time.time()\n",
    "grid_search_o.fit(Xtrain_o, ytrain_o)\n",
    "end = time.time() - start\n",
    "print(f\"Took {end} seconds\")"
   ]
  },
  {
   "cell_type": "code",
   "execution_count": 28,
   "metadata": {},
   "outputs": [
    {
     "data": {
      "text/plain": [
       "RandomForestClassifier(max_depth=15, min_samples_split=5, n_estimators=200,\n",
       "                       random_state=7)"
      ]
     },
     "execution_count": 28,
     "metadata": {},
     "output_type": "execute_result"
    }
   ],
   "source": [
    "#Displayibg the best estimator of the model\n",
    "grid_search_o.best_estimator_"
   ]
  },
  {
   "cell_type": "code",
   "execution_count": 29,
   "metadata": {},
   "outputs": [
    {
     "data": {
      "text/plain": [
       "0.7367259859307174"
      ]
     },
     "execution_count": 29,
     "metadata": {},
     "output_type": "execute_result"
    }
   ],
   "source": [
    "#Displaying the best score of the model\n",
    "grid_search_o.best_score_"
   ]
  },
  {
   "cell_type": "markdown",
   "metadata": {},
   "source": [
    "The best score we got is 73.67 % which is much better than baseline model with best estimators RandomForestClassifier(max_depth=15, min_samples_split=5, n_estimators=200,\n",
    "                       random_state=7)."
   ]
  },
  {
   "cell_type": "code",
   "execution_count": 30,
   "metadata": {},
   "outputs": [
    {
     "data": {
      "text/plain": [
       "18"
      ]
     },
     "execution_count": 30,
     "metadata": {},
     "output_type": "execute_result"
    }
   ],
   "source": [
    "#This code will generate the rank of best performing model in this algoritham.\n",
    "grid_search_o.cv_results_[\"rank_test_score\"].tolist().index(1)"
   ]
  },
  {
   "cell_type": "code",
   "execution_count": 31,
   "metadata": {},
   "outputs": [],
   "source": [
    "#This code will store the best model in each split for future use.\n",
    "rfo_split_test_scores = []\n",
    "for x in range(5):\n",
    "    # extract f-score of the best model (index=18) from each of the 5 splits\n",
    "    val = grid_search_o.cv_results_[f\"split{x}_test_score\"][18]\n",
    "    rfo_split_test_scores.append(val)"
   ]
  },
  {
   "cell_type": "code",
   "execution_count": 32,
   "metadata": {},
   "outputs": [
    {
     "name": "stdout",
     "output_type": "stream",
     "text": [
      "0.7367259859307174 0.770327638649544 {'max_depth': 15, 'min_samples_split': 5, 'n_estimators': 200, 'random_state': 7}\n",
      "0.735259718094021 0.7693189528874306 {'max_depth': 15, 'min_samples_split': 5, 'n_estimators': 1000, 'random_state': 7}\n",
      "0.7339445340637681 0.7663228871030804 {'max_depth': 15, 'min_samples_split': 10, 'n_estimators': 200, 'random_state': 7}\n",
      "0.7334101898934541 0.7682485281709168 {'max_depth': 15, 'min_samples_split': 5, 'n_estimators': 100, 'random_state': 7}\n",
      "0.7333812224908314 0.7654321312903585 {'max_depth': 15, 'min_samples_split': 10, 'n_estimators': 1000, 'random_state': 7}\n",
      "0.7300015645884234 0.7637901912762886 {'max_depth': 15, 'min_samples_split': 10, 'n_estimators': 100, 'random_state': 7}\n",
      "0.713768519620236 0.7484696598395021 {'max_depth': 15, 'min_samples_split': 5, 'n_estimators': 10, 'random_state': 7}\n",
      "0.7093902332422473 0.7443415881006699 {'max_depth': 15, 'min_samples_split': 10, 'n_estimators': 10, 'random_state': 7}\n",
      "0.5151999325098577 0.5226534805318518 {'max_depth': 5, 'min_samples_split': 10, 'n_estimators': 200, 'random_state': 7}\n",
      "0.5135664853850906 0.5212484042235237 {'max_depth': 5, 'min_samples_split': 5, 'n_estimators': 200, 'random_state': 7}\n",
      "0.5105874212275513 0.5173669477837214 {'max_depth': 5, 'min_samples_split': 5, 'n_estimators': 100, 'random_state': 7}\n",
      "0.5098357784942004 0.5194063835167586 {'max_depth': 5, 'min_samples_split': 5, 'n_estimators': 1000, 'random_state': 7}\n",
      "0.5091370787308112 0.5166579704309938 {'max_depth': 5, 'min_samples_split': 10, 'n_estimators': 100, 'random_state': 7}\n",
      "0.5085595440605644 0.5188290505952574 {'max_depth': 5, 'min_samples_split': 10, 'n_estimators': 1000, 'random_state': 7}\n",
      "0.49385261210818043 0.503218245171656 {'max_depth': 5, 'min_samples_split': 10, 'n_estimators': 10, 'random_state': 7}\n",
      "0.4930448307514471 0.5019197601788182 {'max_depth': 5, 'min_samples_split': 5, 'n_estimators': 10, 'random_state': 7}\n",
      "0.4624439540517895 0.46651317241991075 {'max_depth': 3, 'min_samples_split': 5, 'n_estimators': 200, 'random_state': 7}\n",
      "0.4624439540517895 0.4664846170442972 {'max_depth': 3, 'min_samples_split': 10, 'n_estimators': 200, 'random_state': 7}\n",
      "0.46151751932227053 0.4623014666601429 {'max_depth': 3, 'min_samples_split': 5, 'n_estimators': 100, 'random_state': 7}\n",
      "0.4614986384635829 0.4622969219575593 {'max_depth': 3, 'min_samples_split': 10, 'n_estimators': 100, 'random_state': 7}\n",
      "0.45403936469977435 0.45693304921531547 {'max_depth': 3, 'min_samples_split': 10, 'n_estimators': 1000, 'random_state': 7}\n",
      "0.4540214534697113 0.45697949370611035 {'max_depth': 3, 'min_samples_split': 5, 'n_estimators': 1000, 'random_state': 7}\n",
      "0.4510372319697389 0.45406595210959655 {'max_depth': 3, 'min_samples_split': 5, 'n_estimators': 10, 'random_state': 7}\n",
      "0.4510372319697389 0.45406595210959655 {'max_depth': 3, 'min_samples_split': 10, 'n_estimators': 10, 'random_state': 7}\n"
     ]
    }
   ],
   "source": [
    "#This code will generate all results of random forest with all parameters for further analysis\n",
    "val_scores = grid_search_o.cv_results_[\"mean_test_score\"]\n",
    "train_scores = grid_search_o.cv_results_[\"mean_train_score\"]\n",
    "params = [str(x) for x in grid_search_o.cv_results_[\"params\"]]\n",
    "\n",
    "for val_score, train_score, param in sorted(zip(val_scores, train_scores, params), reverse=True):\n",
    "    print(val_score, train_score, param)"
   ]
  },
  {
   "cell_type": "markdown",
   "metadata": {},
   "source": [
    "The performance of Random Forest Model with Over Sampling varies a lot across the runs,the accuracy is 0.4510 to 0.7367 across runs.In particular, we notice that the best performance is achieved with max depth and min samples split. In this model we notice overfitting as the performance on training parts is slightly better than as on the validation part."
   ]
  },
  {
   "cell_type": "code",
   "execution_count": 33,
   "metadata": {},
   "outputs": [
    {
     "name": "stdout",
     "output_type": "stream",
     "text": [
      "Urban: 0.14696626244109207\n",
      "Night: 0.07142242167277107\n",
      "Wet: 0.06442997193173287\n",
      "Daylight: 0.05046764814749343\n",
      "Thursday: 0.04442778718968812\n",
      "Raining: 0.043866496254905955\n",
      "July: 0.043860035767904024\n",
      "Monday: 0.03836346923611518\n",
      "January: 0.035743783169415046\n",
      "November: 0.03560680263952786\n",
      "Sunday: 0.03513129918409347\n",
      "February: 0.03325933680951725\n",
      "October: 0.03244034935755542\n",
      "Visible: 0.029191425081565615\n",
      "Saturday: 0.029101616861384554\n",
      "Wednesday: 0.028984731897671583\n",
      "Tuesday: 0.0287340074269549\n",
      "Darkness with no lighting: 0.02685082713164018\n",
      "September: 0.025459311964189418\n",
      "June: 0.025135920515018166\n",
      "December: 0.021606688053839567\n",
      "May: 0.021043593452267244\n",
      "March: 0.020507605239521824\n",
      "Other: 0.017181832558748764\n",
      "No High Winds: 0.01670352479058616\n",
      "August: 0.01434938140543167\n",
      "Fog or mist: 0.007680002858318951\n",
      "Frost: 0.004521879754008683\n",
      "Darkness with lights unlit: 0.004122400302532875\n",
      "Snowing: 0.0018002885498671448\n",
      "Flood: 0.000558680890390433\n",
      "Snow: 0.0004806174642506614\n",
      "Number_of_Casualties: 0.0\n"
     ]
    }
   ],
   "source": [
    "# put them into a separate variable for convenience\n",
    "feature_importances = grid_search_o.best_estimator_.feature_importances_\n",
    "\n",
    "# the order of the features in `feature_importances` is the same as in the Xtrain dataframe,\n",
    "# so we can \"zip\" the two and print in the descending order:\n",
    "\n",
    "for k, v in sorted(zip(feature_importances, Xtrain.columns), reverse=True):\n",
    "    print(f\"{v}: {k}\")"
   ]
  },
  {
   "cell_type": "markdown",
   "metadata": {},
   "source": [
    "Important features according to this model are Urban(Urban or Rural), Night(Time) and wet(Road condition).\n",
    "\n",
    "Least Important features according to this model are Number_of_Casualties, snow."
   ]
  },
  {
   "cell_type": "code",
   "execution_count": 34,
   "metadata": {},
   "outputs": [
    {
     "data": {
      "text/plain": [
       "['models/rfo-clf.joblib']"
      ]
     },
     "execution_count": 34,
     "metadata": {},
     "output_type": "execute_result"
    }
   ],
   "source": [
    "#This code is storing the model in \"joblib\" function for future reference, as again running the model \n",
    "#from scratch will be very time consuming, so to save time we are doing this\n",
    "import os\n",
    "from joblib import dump\n",
    "\n",
    "# create a folder where all trained models will be kept\n",
    "if not os.path.exists(\"models\"):\n",
    "    os.makedirs(\"models\")\n",
    "    \n",
    "dump(grid_search_o.best_estimator_, 'models/rfo-clf.joblib')"
   ]
  },
  {
   "cell_type": "markdown",
   "metadata": {},
   "source": [
    "## 2.5 Linear Support Vector Machines with Grid search\n",
    "**We are using grid serach CV library function, it helps in getting best model by doing Hyperparameter tunning automatically on mentioned parameters and gives us the best parameters.**"
   ]
  },
  {
   "cell_type": "code",
   "execution_count": 35,
   "metadata": {},
   "outputs": [
    {
     "name": "stdout",
     "output_type": "stream",
     "text": [
      "Took 25.778316974639893 seconds\n"
     ]
    }
   ],
   "source": [
    "#Importing Grid search\n",
    "from sklearn.model_selection import GridSearchCV\n",
    "\n",
    "#Importing Linear svc\n",
    "from sklearn.svm import LinearSVC\n",
    "\n",
    "lsvm = LinearSVC()\n",
    "\n",
    "# specify the hyperparameters and their values\n",
    "# 5 combinations in the grid\n",
    "param_grid = {\n",
    "    'C': [0.001, 0.01, 0.1, 1, 3, 5],\n",
    "    'max_iter': [5000],\n",
    "    'random_state': [7]\n",
    "}    \n",
    "\n",
    "# we'll use 5-fold cross-validation\n",
    "l_grid_search = GridSearchCV(lsvm, param_grid, cv=5,\n",
    "                           scoring='f1_macro', \n",
    "                           return_train_score=True) \n",
    "\n",
    "start = time.time()\n",
    "l_grid_search.fit(Xtrain, ytrain)\n",
    "end = time.time() - start\n",
    "print(f\"Took {end} seconds\")"
   ]
  },
  {
   "cell_type": "code",
   "execution_count": 36,
   "metadata": {},
   "outputs": [
    {
     "data": {
      "text/plain": [
       "LinearSVC(C=0.001, max_iter=5000, random_state=7)"
      ]
     },
     "execution_count": 36,
     "metadata": {},
     "output_type": "execute_result"
    }
   ],
   "source": [
    "#Displaying best Estimators of this model\n",
    "l_grid_search.best_estimator_"
   ]
  },
  {
   "cell_type": "code",
   "execution_count": 37,
   "metadata": {},
   "outputs": [
    {
     "data": {
      "text/plain": [
       "0.29552808431814326"
      ]
     },
     "execution_count": 37,
     "metadata": {},
     "output_type": "execute_result"
    }
   ],
   "source": [
    "#Displaying best score of this model\n",
    "l_grid_search.best_score_"
   ]
  },
  {
   "cell_type": "markdown",
   "metadata": {},
   "source": [
    "The best score we got is 29.55 %  which is slight better than baseline model with best estimators SLinearSVC(C=0.001, max_iter=5000, random_state=7)."
   ]
  },
  {
   "cell_type": "code",
   "execution_count": 38,
   "metadata": {},
   "outputs": [
    {
     "data": {
      "text/plain": [
       "0"
      ]
     },
     "execution_count": 38,
     "metadata": {},
     "output_type": "execute_result"
    }
   ],
   "source": [
    "#Displaying the best performing model rank index\n",
    "l_grid_search.cv_results_[\"rank_test_score\"].tolist().index(1)"
   ]
  },
  {
   "cell_type": "code",
   "execution_count": 39,
   "metadata": {},
   "outputs": [],
   "source": [
    "#This code will store the best model in each split for future use.\n",
    "ls_split_test_scores = []\n",
    "for x in range(5):\n",
    "    # extract f-score of the best model (index=0) from each of the 5 splits\n",
    "    val = l_grid_search.cv_results_[f\"split{x}_test_score\"][0]\n",
    "    ls_split_test_scores.append(val)"
   ]
  },
  {
   "cell_type": "code",
   "execution_count": 40,
   "metadata": {},
   "outputs": [
    {
     "name": "stdout",
     "output_type": "stream",
     "text": [
      "0.29552808431814326 0.29552808265629865 {'C': 5, 'max_iter': 5000, 'random_state': 7}\n",
      "0.29552808431814326 0.29552808265629865 {'C': 3, 'max_iter': 5000, 'random_state': 7}\n",
      "0.29552808431814326 0.29552808265629865 {'C': 1, 'max_iter': 5000, 'random_state': 7}\n",
      "0.29552808431814326 0.29552808265629865 {'C': 0.1, 'max_iter': 5000, 'random_state': 7}\n",
      "0.29552808431814326 0.29552808265629865 {'C': 0.01, 'max_iter': 5000, 'random_state': 7}\n",
      "0.29552808431814326 0.29552808265629865 {'C': 0.001, 'max_iter': 5000, 'random_state': 7}\n"
     ]
    }
   ],
   "source": [
    "#This code will generate all results of random forest with all parameters for further analysis\n",
    "val_scores = l_grid_search.cv_results_[\"mean_test_score\"]\n",
    "train_scores = l_grid_search.cv_results_[\"mean_train_score\"]\n",
    "params = [str(x) for x in l_grid_search.cv_results_[\"params\"]]\n",
    "\n",
    "for val_score, train_score, param in sorted(zip(val_scores, train_scores, params), reverse=True):\n",
    "    print(val_score, train_score, param)"
   ]
  },
  {
   "cell_type": "markdown",
   "metadata": {},
   "source": [
    "The performance of Linear Support Vector Machines did not varies a lot across the runs,the accuracy is 0.2955 across all runs.In particular, we notice that same performance is achieved with any type of parameters\". In this model we did not notice any type of overfitting as the performance on training parts is almost same as on the validation part."
   ]
  },
  {
   "cell_type": "code",
   "execution_count": 41,
   "metadata": {},
   "outputs": [
    {
     "data": {
      "text/plain": [
       "['models/ls-clf.joblib']"
      ]
     },
     "execution_count": 41,
     "metadata": {},
     "output_type": "execute_result"
    }
   ],
   "source": [
    "#This code is storing the model in \"joblib\" function for future reference, as again running the model \n",
    "#from scratch will be very time consuming, so to save time we are doing this\n",
    "import os\n",
    "from joblib import dump\n",
    "\n",
    "# create a folder where all trained models will be kept\n",
    "if not os.path.exists(\"models\"):\n",
    "    os.makedirs(\"models\")\n",
    "    \n",
    "dump(l_grid_search.best_estimator_, 'models/ls-clf.joblib')"
   ]
  },
  {
   "cell_type": "markdown",
   "metadata": {},
   "source": [
    "## 2.6 Linear Support Vector Machines Grid Search with over sampling\n",
    "**We are using grid serach CV library function, it helps in getting best model by doing Hyperparameter tunning automatically on mentioned parameters and gives us the best parameters.**\n",
    "\n",
    "HERE WE ARE USING THE SAME DATA WHICH IS USED ABOVE FOR RANDOM FOREST USING SMOTE"
   ]
  },
  {
   "cell_type": "code",
   "execution_count": 42,
   "metadata": {},
   "outputs": [
    {
     "name": "stdout",
     "output_type": "stream",
     "text": [
      "Took 64.36532211303711 seconds\n"
     ]
    }
   ],
   "source": [
    "#Importing linear SVC FROM sklearn.svm\n",
    "from sklearn.svm import LinearSVC\n",
    "\n",
    "lsvm = LinearSVC()\n",
    "\n",
    "# specify the hyperparameters and their values\n",
    "# 5 combinations in the grid\n",
    "param_grid = {\n",
    "    'C': [0.001, 0.01, 0.1, 1, 3, 5],\n",
    "    'max_iter': [5000],\n",
    "    'random_state': [7]\n",
    "}    \n",
    "\n",
    "# we'll use 5-fold cross-validation\n",
    "lo_grid_search = GridSearchCV(lsvm, param_grid, cv=5,\n",
    "                           scoring='f1_macro', \n",
    "                           return_train_score=True) \n",
    "\n",
    "start = time.time()\n",
    "lo_grid_search.fit(Xtrain_o, ytrain_o)\n",
    "end = time.time() - start\n",
    "print(f\"Took {end} seconds\")"
   ]
  },
  {
   "cell_type": "code",
   "execution_count": 43,
   "metadata": {},
   "outputs": [
    {
     "data": {
      "text/plain": [
       "LinearSVC(C=1, max_iter=5000, random_state=7)"
      ]
     },
     "execution_count": 43,
     "metadata": {},
     "output_type": "execute_result"
    }
   ],
   "source": [
    "#Displaying best estimator\n",
    "lo_grid_search.best_estimator_"
   ]
  },
  {
   "cell_type": "code",
   "execution_count": 44,
   "metadata": {},
   "outputs": [
    {
     "data": {
      "text/plain": [
       "0.43842011162453876"
      ]
     },
     "execution_count": 44,
     "metadata": {},
     "output_type": "execute_result"
    }
   ],
   "source": [
    "#Displaying best score of the model\n",
    "lo_grid_search.best_score_"
   ]
  },
  {
   "cell_type": "markdown",
   "metadata": {},
   "source": [
    "The best score we got is 43.84 % which is far better than baseline model with best estimators LinearSVC(C=1, max_iter=5000, random_state=7)."
   ]
  },
  {
   "cell_type": "code",
   "execution_count": 45,
   "metadata": {},
   "outputs": [
    {
     "data": {
      "text/plain": [
       "3"
      ]
     },
     "execution_count": 45,
     "metadata": {},
     "output_type": "execute_result"
    }
   ],
   "source": [
    "#Displaying the best performing model rank index\n",
    "lo_grid_search.cv_results_[\"rank_test_score\"].tolist().index(1)"
   ]
  },
  {
   "cell_type": "code",
   "execution_count": 46,
   "metadata": {},
   "outputs": [],
   "source": [
    "#This code will store the best model in each split for future use.\n",
    "lo_split_test_scores = []\n",
    "for x in range(5):\n",
    "    # extract f-score of the best model (index=3) from each of the 5 splits\n",
    "    val = lo_grid_search.cv_results_[f\"split{x}_test_score\"][3]\n",
    "    lo_split_test_scores.append(val)"
   ]
  },
  {
   "cell_type": "code",
   "execution_count": 47,
   "metadata": {},
   "outputs": [
    {
     "name": "stdout",
     "output_type": "stream",
     "text": [
      "0.43842011162453876 0.4398627254595381 {'C': 1, 'max_iter': 5000, 'random_state': 7}\n",
      "0.4383312660841945 0.43991166602005605 {'C': 3, 'max_iter': 5000, 'random_state': 7}\n",
      "0.4383306137748419 0.4399129820985907 {'C': 5, 'max_iter': 5000, 'random_state': 7}\n",
      "0.43786364957523827 0.43970381380730483 {'C': 0.1, 'max_iter': 5000, 'random_state': 7}\n",
      "0.43727179906857866 0.43927045713001533 {'C': 0.01, 'max_iter': 5000, 'random_state': 7}\n",
      "0.4337141052199618 0.43626207441202514 {'C': 0.001, 'max_iter': 5000, 'random_state': 7}\n"
     ]
    }
   ],
   "source": [
    "#Recording the scores achieved by all the models in the search grid:\n",
    "val_scores = lo_grid_search.cv_results_[\"mean_test_score\"]\n",
    "train_scores = lo_grid_search.cv_results_[\"mean_train_score\"]\n",
    "params = [str(x) for x in lo_grid_search.cv_results_[\"params\"]]\n",
    "\n",
    "for val_score, train_score, param in sorted(zip(val_scores, train_scores, params), reverse=True):\n",
    "    print(val_score, train_score, param)"
   ]
  },
  {
   "cell_type": "markdown",
   "metadata": {},
   "source": [
    "The performance of Linear Support Vector Machines with over sampling did not varies a lot across the runs, between 0.4337 and 0.4384 In particular, we notice that better performance is achieved with lower values of \"C\". In this model we did not notice any type of overfitting as the performance on training parts is almost same as on the validation part."
   ]
  },
  {
   "cell_type": "code",
   "execution_count": 48,
   "metadata": {},
   "outputs": [
    {
     "data": {
      "text/plain": [
       "['models/lo-clf.joblib']"
      ]
     },
     "execution_count": 48,
     "metadata": {},
     "output_type": "execute_result"
    }
   ],
   "source": [
    "#This code is storing the model in \"joblib\" function for future reference, as again running the model \n",
    "#from scratch will be very time consuming, so to save time we are doing this\n",
    "import os\n",
    "from joblib import dump\n",
    "\n",
    "# create a folder where all trained models will be kept\n",
    "if not os.path.exists(\"models\"):\n",
    "    os.makedirs(\"models\")\n",
    "    \n",
    "dump(lo_grid_search.best_estimator_, 'models/lo-clf.joblib')"
   ]
  },
  {
   "cell_type": "markdown",
   "metadata": {},
   "source": [
    "## 2.7 Radial Basis Function using Grid Search\n",
    "**We are using grid serach CV library function, it helps in getting best model by doing Hyperparameter tunning automatically on mentioned parameters and gives us the best parameters.**"
   ]
  },
  {
   "cell_type": "code",
   "execution_count": 49,
   "metadata": {},
   "outputs": [
    {
     "name": "stdout",
     "output_type": "stream",
     "text": [
      "Took 2288.219531059265 seconds\n"
     ]
    }
   ],
   "source": [
    "#Importing SVM from sklearn.svm\n",
    "from sklearn.svm import SVC\n",
    "\n",
    "svm = SVC()\n",
    "\n",
    "# specify the hyperparameters and their values\n",
    "# 6 x 3 = 18 combinations in the grid\n",
    "param_grid = {\n",
    "    'C': [0.01, 0.1, 1, 10, 100],\n",
    "    'gamma': [\"scale\", \"auto\", 0.1],\n",
    "    'kernel': [\"rbf\"],\n",
    "    'random_state': [7]\n",
    "}\n",
    "\n",
    "# we'll use 5-fold cross-validation\n",
    "rb_grid_search = GridSearchCV(svm, param_grid, cv=5,\n",
    "                           scoring='f1_macro', \n",
    "                           return_train_score=True) \n",
    "\n",
    "start = time.time()\n",
    "rb_grid_search.fit(Xtrain, ytrain)\n",
    "end = time.time() - start\n",
    "print(f\"Took {end} seconds\")"
   ]
  },
  {
   "cell_type": "code",
   "execution_count": 50,
   "metadata": {},
   "outputs": [
    {
     "data": {
      "text/plain": [
       "SVC(C=100, random_state=7)"
      ]
     },
     "execution_count": 50,
     "metadata": {},
     "output_type": "execute_result"
    }
   ],
   "source": [
    "#Displaying best estimator\n",
    "rb_grid_search.best_estimator_"
   ]
  },
  {
   "cell_type": "code",
   "execution_count": 51,
   "metadata": {},
   "outputs": [
    {
     "data": {
      "text/plain": [
       "0.3111366672685156"
      ]
     },
     "execution_count": 51,
     "metadata": {},
     "output_type": "execute_result"
    }
   ],
   "source": [
    "#Displaying best score\n",
    "rb_grid_search.best_score_"
   ]
  },
  {
   "cell_type": "markdown",
   "metadata": {},
   "source": [
    "The best score we got is 31.11% still better than baseline model with best estimators SVC(C=100, random_state=7)."
   ]
  },
  {
   "cell_type": "code",
   "execution_count": 52,
   "metadata": {},
   "outputs": [
    {
     "data": {
      "text/plain": [
       "12"
      ]
     },
     "execution_count": 52,
     "metadata": {},
     "output_type": "execute_result"
    }
   ],
   "source": [
    "#Displaying the best performing model rank index\n",
    "rb_grid_search.cv_results_[\"rank_test_score\"].tolist().index(1)"
   ]
  },
  {
   "cell_type": "code",
   "execution_count": 53,
   "metadata": {},
   "outputs": [],
   "source": [
    "#recording the results of the best model in each split, for future reference.\n",
    "rb_split_test_scores = []\n",
    "for x in range(5):\n",
    "# extract f-score of the best model (index=12) from each of the 5 splits \n",
    "    val = rb_grid_search.cv_results_[f\"split{x}_test_score\"][12] \n",
    "    rb_split_test_scores.append(val)"
   ]
  },
  {
   "cell_type": "code",
   "execution_count": 54,
   "metadata": {},
   "outputs": [
    {
     "name": "stdout",
     "output_type": "stream",
     "text": [
      "0.3111366672685156 0.4439131000048964 {'C': 100, 'gamma': 'scale', 'kernel': 'rbf', 'random_state': 7}\n",
      "0.3020562784976847 0.38687286137706417 {'C': 100, 'gamma': 0.1, 'kernel': 'rbf', 'random_state': 7}\n",
      "0.2962515708956872 0.3366629204208859 {'C': 10, 'gamma': 'scale', 'kernel': 'rbf', 'random_state': 7}\n",
      "0.29552808431814326 0.29552808265629865 {'C': 10, 'gamma': 'auto', 'kernel': 'rbf', 'random_state': 7}\n",
      "0.29552808431814326 0.29552808265629865 {'C': 1, 'gamma': 0.1, 'kernel': 'rbf', 'random_state': 7}\n",
      "0.29552808431814326 0.29552808265629865 {'C': 1, 'gamma': 'scale', 'kernel': 'rbf', 'random_state': 7}\n",
      "0.29552808431814326 0.29552808265629865 {'C': 1, 'gamma': 'auto', 'kernel': 'rbf', 'random_state': 7}\n",
      "0.29552808431814326 0.29552808265629865 {'C': 0.1, 'gamma': 0.1, 'kernel': 'rbf', 'random_state': 7}\n",
      "0.29552808431814326 0.29552808265629865 {'C': 0.1, 'gamma': 'scale', 'kernel': 'rbf', 'random_state': 7}\n",
      "0.29552808431814326 0.29552808265629865 {'C': 0.1, 'gamma': 'auto', 'kernel': 'rbf', 'random_state': 7}\n",
      "0.29552808431814326 0.29552808265629865 {'C': 0.01, 'gamma': 0.1, 'kernel': 'rbf', 'random_state': 7}\n",
      "0.29552808431814326 0.29552808265629865 {'C': 0.01, 'gamma': 'scale', 'kernel': 'rbf', 'random_state': 7}\n",
      "0.29552808431814326 0.29552808265629865 {'C': 0.01, 'gamma': 'auto', 'kernel': 'rbf', 'random_state': 7}\n",
      "0.29546938919709803 0.297304512283211 {'C': 10, 'gamma': 0.1, 'kernel': 'rbf', 'random_state': 7}\n",
      "0.29546938919709803 0.29629804639139334 {'C': 100, 'gamma': 'auto', 'kernel': 'rbf', 'random_state': 7}\n"
     ]
    }
   ],
   "source": [
    "#Let's review the scores achieved by all the models in the search grid:\n",
    "val_scores = rb_grid_search.cv_results_[\"mean_test_score\"]\n",
    "train_scores = rb_grid_search.cv_results_[\"mean_train_score\"]\n",
    "params = [str(x) for x in rb_grid_search.cv_results_[\"params\"]]\n",
    "\n",
    "for val_score, train_score, param in sorted(zip(val_scores, train_scores, params), reverse=True):\n",
    "    print(val_score, train_score, param)"
   ]
  },
  {
   "cell_type": "markdown",
   "metadata": {},
   "source": [
    "The performance of Radial basis function varies a lot across the runs, between 0.2955 and 0.3111 In particular, we notice that better performance is achieved with higher values of \"C\". However, at higher values of this hyperparameter, we notice some evidence of overfitting: the performance on training parts is considerably better than on the validation part."
   ]
  },
  {
   "cell_type": "code",
   "execution_count": 55,
   "metadata": {},
   "outputs": [
    {
     "data": {
      "text/plain": [
       "['models/rb-clf.joblib']"
      ]
     },
     "execution_count": 55,
     "metadata": {},
     "output_type": "execute_result"
    }
   ],
   "source": [
    "#This code is storing the model in \"joblib\" function for future reference, as again running the model \n",
    "#from scratch will be very time consuming, so to save time we are doing this\n",
    "import os\n",
    "from joblib import dump\n",
    "\n",
    "# create a folder where all trained models will be kept\n",
    "if not os.path.exists(\"models\"):\n",
    "    os.makedirs(\"models\")\n",
    "    \n",
    "dump(rb_grid_search.best_estimator_, 'models/rb-clf.joblib')"
   ]
  },
  {
   "cell_type": "markdown",
   "metadata": {},
   "source": [
    "## 2.8 Polynomial SVM using Grid Search\n",
    "**We are using grid serach CV library function, it helps in getting best model by doing Hyperparameter tunning automatically on mentioned parameters and gives us the best parameters.**"
   ]
  },
  {
   "cell_type": "code",
   "execution_count": 56,
   "metadata": {},
   "outputs": [
    {
     "name": "stdout",
     "output_type": "stream",
     "text": [
      "Took 312.99900698661804 seconds\n"
     ]
    }
   ],
   "source": [
    "#importing GridSearchCV\n",
    "from sklearn.model_selection import GridSearchCV\n",
    "\n",
    "# Importing SVM\n",
    "from sklearn.svm import SVC\n",
    "\n",
    "svm_poly = SVC(kernel=\"poly\", gamma=\"scale\", random_state=7)\n",
    "\n",
    "# specify the hyperparameters and their values\n",
    "# 6 x 3 = 18 combinations in the grid\n",
    "param_grid = {\n",
    "    'C': [0.01, 0.1, 1, 10, 100],\n",
    "    'degree': [2],\n",
    "}\n",
    "\n",
    "# we'll use 5-fold cross-validation\n",
    "poly_grid_search = GridSearchCV(svm_poly, param_grid, cv=5,\n",
    "                           scoring='f1_macro', \n",
    "                           return_train_score=True) \n",
    "\n",
    "start = time.time()\n",
    "poly_grid_search.fit(Xtrain, ytrain)\n",
    "end = time.time() - start\n",
    "print(f\"Took {end} seconds\")"
   ]
  },
  {
   "cell_type": "code",
   "execution_count": 57,
   "metadata": {},
   "outputs": [
    {
     "data": {
      "text/plain": [
       "SVC(C=100, degree=2, kernel='poly', random_state=7)"
      ]
     },
     "execution_count": 57,
     "metadata": {},
     "output_type": "execute_result"
    }
   ],
   "source": [
    "#Displaying best estimators\n",
    "poly_grid_search.best_estimator_"
   ]
  },
  {
   "cell_type": "code",
   "execution_count": 58,
   "metadata": {},
   "outputs": [
    {
     "data": {
      "text/plain": [
       "0.29656597575743315"
      ]
     },
     "execution_count": 58,
     "metadata": {},
     "output_type": "execute_result"
    }
   ],
   "source": [
    "#Displaying best score\n",
    "poly_grid_search.best_score_"
   ]
  },
  {
   "cell_type": "markdown",
   "metadata": {},
   "source": [
    "The best score we got is 29.65% still better than baseline model with best estimators SVC(C=100, degree=2, kernel='poly', random_state=7)"
   ]
  },
  {
   "cell_type": "code",
   "execution_count": 59,
   "metadata": {},
   "outputs": [
    {
     "data": {
      "text/plain": [
       "4"
      ]
     },
     "execution_count": 59,
     "metadata": {},
     "output_type": "execute_result"
    }
   ],
   "source": [
    "#Displaying the best performing model rank index\n",
    "poly_grid_search.cv_results_[\"rank_test_score\"].tolist().index(1)"
   ]
  },
  {
   "cell_type": "code",
   "execution_count": 60,
   "metadata": {},
   "outputs": [],
   "source": [
    "#recording the results of the best model in each split, for future reference.\n",
    "poly_split_test_scores = []\n",
    "for x in range(5):\n",
    "# extract f-score of the best model (index=4) from each of the 5 splits \n",
    "    val = poly_grid_search.cv_results_[f\"split{x}_test_score\"][4] \n",
    "    poly_split_test_scores.append(val)"
   ]
  },
  {
   "cell_type": "code",
   "execution_count": 61,
   "metadata": {},
   "outputs": [
    {
     "name": "stdout",
     "output_type": "stream",
     "text": [
      "0.29656597575743315 0.32787033166313506 {'C': 100, 'degree': 2}\n",
      "0.29582384353225877 0.29869371580605825 {'C': 10, 'degree': 2}\n",
      "0.29552808431814326 0.29552808265629865 {'C': 1, 'degree': 2}\n",
      "0.29552808431814326 0.29552808265629865 {'C': 0.1, 'degree': 2}\n",
      "0.29552808431814326 0.29552808265629865 {'C': 0.01, 'degree': 2}\n"
     ]
    }
   ],
   "source": [
    "#Let's review the scores achieved by all the models in the search grid:\n",
    "val_scores = poly_grid_search.cv_results_[\"mean_test_score\"]\n",
    "train_scores = poly_grid_search.cv_results_[\"mean_train_score\"]\n",
    "params = [str(x) for x in poly_grid_search.cv_results_[\"params\"]]\n",
    "\n",
    "for val_score, train_score, param in sorted(zip(val_scores, train_scores, params), reverse=True):\n",
    "    print(val_score, train_score, param)"
   ]
  },
  {
   "cell_type": "markdown",
   "metadata": {},
   "source": [
    "The performance of polynomial SVM varies a lot across the runs, between 0.2955 and 0.2965 In particular, we notice that better performance is achieved with higher values of \"C\". However, at higher values of this hyperparameter, we notice some evidence of overfitting: the performance on training parts is considerably better than on the validation part."
   ]
  },
  {
   "cell_type": "code",
   "execution_count": 62,
   "metadata": {},
   "outputs": [
    {
     "data": {
      "text/plain": [
       "['models/poly-clf.joblib']"
      ]
     },
     "execution_count": 62,
     "metadata": {},
     "output_type": "execute_result"
    }
   ],
   "source": [
    "#This code is storing the model in \"joblib\" function for future reference, as again running the model \n",
    "#from scratch will be very time consuming, so to save time we are doing this\n",
    "import os\n",
    "from joblib import dump\n",
    "\n",
    "# create a folder where all trained models will be kept\n",
    "if not os.path.exists(\"models\"):\n",
    "    os.makedirs(\"models\")\n",
    "    \n",
    "dump(poly_grid_search.best_estimator_, 'models/poly-clf.joblib')"
   ]
  },
  {
   "cell_type": "markdown",
   "metadata": {},
   "source": [
    "## 2.9 KNN Using Grid Search\n",
    "**We are using grid serach CV library function, it helps in getting best model by doing Hyperparameter tunning automatically on mentioned parameters and gives us the best parameters.**"
   ]
  },
  {
   "cell_type": "code",
   "execution_count": 63,
   "metadata": {},
   "outputs": [
    {
     "name": "stdout",
     "output_type": "stream",
     "text": [
      "Took 1068.671002149582 seconds\n"
     ]
    }
   ],
   "source": [
    "#Importing GridSearchCV from sklearn.model_selection library\n",
    "from sklearn.model_selection import GridSearchCV\n",
    "from sklearn.neighbors import KNeighborsClassifier\n",
    "\n",
    "knn = KNeighborsClassifier()\n",
    "\n",
    "parameters = {\"n_neighbors\": range(1, 50)}\n",
    "\n",
    "# we'll use 5-fold cross-validation\n",
    "k_grid_search = GridSearchCV(knn, parameters, cv=5,\n",
    "                           scoring='f1_macro', \n",
    "                           return_train_score=True) \n",
    "\n",
    "start = time.time()\n",
    "k_grid_search.fit(Xtrain, ytrain)\n",
    "end = time.time() - start\n",
    "print(f\"Took {end} seconds\")"
   ]
  },
  {
   "cell_type": "code",
   "execution_count": 64,
   "metadata": {},
   "outputs": [
    {
     "data": {
      "text/plain": [
       "KNeighborsClassifier(n_neighbors=1)"
      ]
     },
     "execution_count": 64,
     "metadata": {},
     "output_type": "execute_result"
    }
   ],
   "source": [
    "#Displaying best estimator \n",
    "k_grid_search.best_estimator_"
   ]
  },
  {
   "cell_type": "code",
   "execution_count": 65,
   "metadata": {},
   "outputs": [
    {
     "data": {
      "text/plain": [
       "0.3390360693248141"
      ]
     },
     "execution_count": 65,
     "metadata": {},
     "output_type": "execute_result"
    }
   ],
   "source": [
    "#Displaying best score\n",
    "k_grid_search.best_score_"
   ]
  },
  {
   "cell_type": "markdown",
   "metadata": {},
   "source": [
    "The best score we got is 33.90% still better than baseline model with best estimators KNeighborsClassifier(n_neighbors=1)"
   ]
  },
  {
   "cell_type": "code",
   "execution_count": 66,
   "metadata": {},
   "outputs": [
    {
     "data": {
      "text/plain": [
       "0"
      ]
     },
     "execution_count": 66,
     "metadata": {},
     "output_type": "execute_result"
    }
   ],
   "source": [
    "#Displaying the best performing model rank index\n",
    "k_grid_search.cv_results_[\"rank_test_score\"].tolist().index(1)"
   ]
  },
  {
   "cell_type": "code",
   "execution_count": 67,
   "metadata": {},
   "outputs": [],
   "source": [
    "#Let's record the results of the best model in each split, for future reference.\n",
    "k_split_test_scores = []\n",
    "for x in range(5):\n",
    "# extract f-score of the best model (index=0) from each of the 5 splits \n",
    "    val = k_grid_search.cv_results_[f\"split{x}_test_score\"][0] \n",
    "    k_split_test_scores.append(val)"
   ]
  },
  {
   "cell_type": "code",
   "execution_count": 68,
   "metadata": {},
   "outputs": [
    {
     "name": "stdout",
     "output_type": "stream",
     "text": [
      "0.3390360693248141 0.47198606668372733 {'n_neighbors': 1}\n",
      "0.33234622628213684 0.40663371448377267 {'n_neighbors': 4}\n",
      "0.32812352408760914 0.460962649423266 {'n_neighbors': 2}\n",
      "0.32747717084545 0.4283224824835526 {'n_neighbors': 3}\n",
      "0.3269122261394226 0.374188333217655 {'n_neighbors': 6}\n",
      "0.32308413471157615 0.3501385524726267 {'n_neighbors': 8}\n",
      "0.3230053382047545 0.36966871588312344 {'n_neighbors': 5}\n",
      "0.31607283085467464 0.3370740342732999 {'n_neighbors': 7}\n",
      "0.31517813311661724 0.33200400050433265 {'n_neighbors': 10}\n",
      "0.3104265091623169 0.3233718622016645 {'n_neighbors': 9}\n",
      "0.3097407275428552 0.31951549935352974 {'n_neighbors': 12}\n",
      "0.30632866030695666 0.314754108388568 {'n_neighbors': 11}\n",
      "0.3050004611928568 0.31240112895557465 {'n_neighbors': 14}\n",
      "0.3035352552774536 0.309083646535388 {'n_neighbors': 13}\n",
      "0.30089078739467073 0.30606973414662997 {'n_neighbors': 16}\n",
      "0.30083609693874347 0.30489136553554835 {'n_neighbors': 15}\n",
      "0.29863513617832804 0.3033155433133065 {'n_neighbors': 18}\n",
      "0.2985630808789 0.3034001261942183 {'n_neighbors': 17}\n",
      "0.2973576671968813 0.30127503467043015 {'n_neighbors': 20}\n",
      "0.2972724159264584 0.2996508540487335 {'n_neighbors': 23}\n",
      "0.29698856209668417 0.3000266949480671 {'n_neighbors': 24}\n",
      "0.29686668810489436 0.2996132804317592 {'n_neighbors': 22}\n",
      "0.29665502985104897 0.2997930007533031 {'n_neighbors': 21}\n",
      "0.2966463307877613 0.29948747278407006 {'n_neighbors': 26}\n",
      "0.29618903836130234 0.29667344630630793 {'n_neighbors': 30}\n",
      "0.29595082129852673 0.2971749087363401 {'n_neighbors': 29}\n",
      "0.29587945822713674 0.29822630350612817 {'n_neighbors': 27}\n",
      "0.29582730811751845 0.29636229300187067 {'n_neighbors': 31}\n",
      "0.29573497578267216 0.2980590156789777 {'n_neighbors': 25}\n",
      "0.29571118939554275 0.29562882487104436 {'n_neighbors': 41}\n",
      "0.29571118939554275 0.29562882487104436 {'n_neighbors': 40}\n",
      "0.29569974806334726 0.29562295699347707 {'n_neighbors': 38}\n",
      "0.2956863899334574 0.29785547956591196 {'n_neighbors': 28}\n",
      "0.29566729537839176 0.2997192543164364 {'n_neighbors': 19}\n",
      "0.29566452630808643 0.296399744641272 {'n_neighbors': 36}\n",
      "0.29552808431814326 0.29552808265629865 {'n_neighbors': 49}\n",
      "0.29552808431814326 0.29552808265629865 {'n_neighbors': 48}\n",
      "0.29552808431814326 0.29552808265629865 {'n_neighbors': 47}\n",
      "0.29552808431814326 0.29552808265629865 {'n_neighbors': 46}\n",
      "0.29552808431814326 0.29552808265629865 {'n_neighbors': 45}\n",
      "0.29552808431814326 0.29552808265629865 {'n_neighbors': 44}\n",
      "0.29552808431814326 0.29552808265629865 {'n_neighbors': 43}\n",
      "0.29552808431814326 0.29552808265629865 {'n_neighbors': 42}\n",
      "0.29550460761896724 0.29562882487104436 {'n_neighbors': 39}\n",
      "0.29550460761896724 0.29562882487104436 {'n_neighbors': 37}\n",
      "0.2954693858637064 0.29640561251883935 {'n_neighbors': 35}\n",
      "0.2954693858637064 0.29635144176533484 {'n_neighbors': 34}\n",
      "0.29545764194476065 0.2964032889045471 {'n_neighbors': 33}\n",
      "0.29545764194476065 0.29635144176533484 {'n_neighbors': 32}\n"
     ]
    }
   ],
   "source": [
    "#Let's review the scores achieved by all the models in the search grid:\n",
    "val_scores = k_grid_search.cv_results_[\"mean_test_score\"]\n",
    "train_scores = k_grid_search.cv_results_[\"mean_train_score\"]\n",
    "params = [str(x) for x in k_grid_search.cv_results_[\"params\"]]\n",
    "\n",
    "for val_score, train_score, param in sorted(zip(val_scores, train_scores, params), reverse=True):\n",
    "    print(val_score, train_score, param)"
   ]
  },
  {
   "cell_type": "markdown",
   "metadata": {},
   "source": [
    "The performance of knn varies a lot across the runs, between 0.29 and 0.3390 In particular, we notice that better performance is achieved with lower values of n_neighbors. However, at higher values of this hyperparameter, we notice some evidence of overfitting: the performance on training parts is considerably better than on the validation part."
   ]
  },
  {
   "cell_type": "code",
   "execution_count": 69,
   "metadata": {},
   "outputs": [
    {
     "data": {
      "text/plain": [
       "['models/knn-clf.joblib']"
      ]
     },
     "execution_count": 69,
     "metadata": {},
     "output_type": "execute_result"
    }
   ],
   "source": [
    "#This code is storing the model in \"joblib\" function for future reference, as again running the model \n",
    "#from scratch will be very time consuming, so to save time we are doing this\n",
    "import os\n",
    "from joblib import dump\n",
    "\n",
    "# create a folder where all trained models will be kept\n",
    "if not os.path.exists(\"models\"):\n",
    "    os.makedirs(\"models\")\n",
    "    \n",
    "dump(k_grid_search.best_estimator_, 'models/knn-clf.joblib')"
   ]
  },
  {
   "cell_type": "markdown",
   "metadata": {},
   "source": [
    "## 2.10 Descision tree Using Grid Search\n",
    "**We are using grid serach CV library function, it helps in getting best model by doing Hyperparameter tunning automatically on mentioned parameters and gives us the best parameters.**"
   ]
  },
  {
   "cell_type": "code",
   "execution_count": 70,
   "metadata": {},
   "outputs": [
    {
     "name": "stdout",
     "output_type": "stream",
     "text": [
      "Took 101.18449211120605 seconds\n"
     ]
    }
   ],
   "source": [
    "#Importing DecisionTreeClassifier\n",
    "from sklearn.tree import DecisionTreeClassifier\n",
    "from sklearn.model_selection import GridSearchCV\n",
    "\n",
    "descision = DecisionTreeClassifier()\n",
    "\n",
    "#specifying the hyper-parametrs and their values\n",
    "param = {\n",
    "    \"criterion\":['gini','entropy'],\n",
    "    \"max_depth\":range(1,100)\n",
    "   \n",
    "}\n",
    "# we'll use 5-fold cross-validation\n",
    "d_grid_search = GridSearchCV(descision, param, cv=5,\n",
    "                           scoring='f1_macro', \n",
    "                           return_train_score=True) \n",
    "\n",
    "start = time.time()\n",
    "d_grid_search.fit(Xtrain, ytrain)\n",
    "end = time.time() - start\n",
    "print(f\"Took {end} seconds\")"
   ]
  },
  {
   "cell_type": "code",
   "execution_count": 71,
   "metadata": {},
   "outputs": [
    {
     "data": {
      "text/plain": [
       "DecisionTreeClassifier(criterion='entropy', max_depth=82)"
      ]
     },
     "execution_count": 71,
     "metadata": {},
     "output_type": "execute_result"
    }
   ],
   "source": [
    "#Displaying the best estimators\n",
    "d_grid_search.best_estimator_"
   ]
  },
  {
   "cell_type": "code",
   "execution_count": 72,
   "metadata": {},
   "outputs": [
    {
     "data": {
      "text/plain": [
       "0.3352798239543235"
      ]
     },
     "execution_count": 72,
     "metadata": {},
     "output_type": "execute_result"
    }
   ],
   "source": [
    "#Displying the best score of this model\n",
    "d_grid_search.best_score_"
   ]
  },
  {
   "cell_type": "markdown",
   "metadata": {},
   "source": [
    "The best score we got is 33.52% still better than baseline model with best estimators DecisionTreeClassifier(criterion='entropy', max_depth=82)"
   ]
  },
  {
   "cell_type": "code",
   "execution_count": 73,
   "metadata": {},
   "outputs": [
    {
     "data": {
      "text/plain": [
       "180"
      ]
     },
     "execution_count": 73,
     "metadata": {},
     "output_type": "execute_result"
    }
   ],
   "source": [
    "#Displaying the best performing model rank index\n",
    "d_grid_search.cv_results_[\"rank_test_score\"].tolist().index(1)"
   ]
  },
  {
   "cell_type": "code",
   "execution_count": 74,
   "metadata": {},
   "outputs": [],
   "source": [
    "d_split_test_scores = []\n",
    "for x in range(5):\n",
    "# extract f-score of the best model (index=180) from each of the 5 splits \n",
    "    val = d_grid_search.cv_results_[f\"split{x}_test_score\"][180] \n",
    "    d_split_test_scores.append(val)"
   ]
  },
  {
   "cell_type": "code",
   "execution_count": 75,
   "metadata": {},
   "outputs": [
    {
     "name": "stdout",
     "output_type": "stream",
     "text": [
      "0.3352798239543235 0.516959359685351 {'criterion': 'entropy', 'max_depth': 82}\n",
      "0.33514109493829775 0.516959359685351 {'criterion': 'entropy', 'max_depth': 34}\n",
      "0.33513872421000124 0.516959359685351 {'criterion': 'entropy', 'max_depth': 78}\n",
      "0.33507541526100726 0.516959359685351 {'criterion': 'entropy', 'max_depth': 84}\n",
      "0.33493874346622543 0.516959359685351 {'criterion': 'entropy', 'max_depth': 60}\n",
      "0.3348065260290693 0.516959359685351 {'criterion': 'entropy', 'max_depth': 89}\n",
      "0.33479679428065945 0.5167076248808573 {'criterion': 'entropy', 'max_depth': 27}\n",
      "0.33371796605931386 0.5030012021695842 {'criterion': 'entropy', 'max_depth': 21}\n",
      "0.3332773403015534 0.516959359685351 {'criterion': 'gini', 'max_depth': 99}\n",
      "0.3332423766374758 0.516959359685351 {'criterion': 'entropy', 'max_depth': 66}\n",
      "0.3331689839098572 0.516959359685351 {'criterion': 'entropy', 'max_depth': 42}\n",
      "0.3331396607586707 0.516959359685351 {'criterion': 'entropy', 'max_depth': 29}\n",
      "0.3331178183320136 0.516959359685351 {'criterion': 'entropy', 'max_depth': 90}\n",
      "0.3330804097012415 0.516959359685351 {'criterion': 'gini', 'max_depth': 71}\n",
      "0.33307535356844076 0.516959359685351 {'criterion': 'entropy', 'max_depth': 64}\n",
      "0.3330732779207263 0.516959359685351 {'criterion': 'entropy', 'max_depth': 75}\n",
      "0.3330063556807561 0.516959359685351 {'criterion': 'entropy', 'max_depth': 61}\n",
      "0.3329894447476791 0.516959359685351 {'criterion': 'entropy', 'max_depth': 44}\n",
      "0.3329657979968252 0.516959359685351 {'criterion': 'entropy', 'max_depth': 96}\n",
      "0.33296482669880617 0.516959359685351 {'criterion': 'entropy', 'max_depth': 73}\n",
      "0.33295027969764335 0.516959359685351 {'criterion': 'gini', 'max_depth': 41}\n",
      "0.3329184072551744 0.516959359685351 {'criterion': 'entropy', 'max_depth': 43}\n",
      "0.3328992385247439 0.516959359685351 {'criterion': 'entropy', 'max_depth': 67}\n",
      "0.33286526261301286 0.516959359685351 {'criterion': 'gini', 'max_depth': 73}\n",
      "0.33280985679849573 0.516959359685351 {'criterion': 'gini', 'max_depth': 45}\n",
      "0.33280900394925117 0.516959359685351 {'criterion': 'entropy', 'max_depth': 69}\n",
      "0.33280843166178914 0.516959359685351 {'criterion': 'gini', 'max_depth': 96}\n",
      "0.3327929596277818 0.516959359685351 {'criterion': 'entropy', 'max_depth': 72}\n",
      "0.3327826065294032 0.516959359685351 {'criterion': 'entropy', 'max_depth': 80}\n",
      "0.3327756908737042 0.516959359685351 {'criterion': 'entropy', 'max_depth': 48}\n",
      "0.33277244829593566 0.516959359685351 {'criterion': 'gini', 'max_depth': 69}\n",
      "0.3327719357368343 0.516959359685351 {'criterion': 'entropy', 'max_depth': 40}\n",
      "0.33274983968602423 0.516959359685351 {'criterion': 'gini', 'max_depth': 50}\n",
      "0.33274630259054294 0.516959359685351 {'criterion': 'entropy', 'max_depth': 81}\n",
      "0.3327310298575778 0.5154347011163755 {'criterion': 'gini', 'max_depth': 26}\n",
      "0.3327247896250611 0.516959359685351 {'criterion': 'gini', 'max_depth': 82}\n",
      "0.33270816221348676 0.516959359685351 {'criterion': 'entropy', 'max_depth': 63}\n",
      "0.3326945046462624 0.516959359685351 {'criterion': 'gini', 'max_depth': 32}\n",
      "0.3326899772472248 0.5168587704994867 {'criterion': 'gini', 'max_depth': 29}\n",
      "0.33267464302885474 0.516959359685351 {'criterion': 'entropy', 'max_depth': 30}\n",
      "0.3326616400169562 0.516959359685351 {'criterion': 'entropy', 'max_depth': 87}\n",
      "0.3326192581444893 0.516959359685351 {'criterion': 'gini', 'max_depth': 51}\n",
      "0.3326171720576311 0.516959359685351 {'criterion': 'entropy', 'max_depth': 83}\n",
      "0.33261044505352516 0.516959359685351 {'criterion': 'entropy', 'max_depth': 65}\n",
      "0.33260202894256874 0.516959359685351 {'criterion': 'entropy', 'max_depth': 88}\n",
      "0.33259851972345433 0.516959359685351 {'criterion': 'entropy', 'max_depth': 92}\n",
      "0.3325768943137749 0.516959359685351 {'criterion': 'gini', 'max_depth': 36}\n",
      "0.3325404923089078 0.516959359685351 {'criterion': 'gini', 'max_depth': 62}\n",
      "0.33252116039143187 0.516959359685351 {'criterion': 'entropy', 'max_depth': 97}\n",
      "0.33251077710209154 0.516959359685351 {'criterion': 'gini', 'max_depth': 77}\n",
      "0.3325037823183116 0.516959359685351 {'criterion': 'gini', 'max_depth': 53}\n",
      "0.33250273604361735 0.516959359685351 {'criterion': 'gini', 'max_depth': 83}\n",
      "0.33249266121356613 0.516959359685351 {'criterion': 'gini', 'max_depth': 44}\n",
      "0.33247266040615114 0.516959359685351 {'criterion': 'gini', 'max_depth': 78}\n",
      "0.332455339441032 0.516959359685351 {'criterion': 'entropy', 'max_depth': 31}\n",
      "0.3324148105861867 0.5161052178392491 {'criterion': 'gini', 'max_depth': 27}\n",
      "0.33236579107685993 0.516959359685351 {'criterion': 'entropy', 'max_depth': 47}\n",
      "0.33236001075488525 0.516959359685351 {'criterion': 'gini', 'max_depth': 49}\n",
      "0.33231159619627976 0.516959359685351 {'criterion': 'entropy', 'max_depth': 50}\n",
      "0.3323012639593218 0.516959359685351 {'criterion': 'gini', 'max_depth': 34}\n",
      "0.3322106528940741 0.516959359685351 {'criterion': 'gini', 'max_depth': 59}\n",
      "0.3322037539675635 0.516959359685351 {'criterion': 'gini', 'max_depth': 57}\n",
      "0.3321995998249435 0.516959359685351 {'criterion': 'gini', 'max_depth': 86}\n",
      "0.3321903348819937 0.516959359685351 {'criterion': 'gini', 'max_depth': 47}\n",
      "0.3321759263518901 0.516959359685351 {'criterion': 'gini', 'max_depth': 81}\n",
      "0.33216116459345096 0.516959359685351 {'criterion': 'gini', 'max_depth': 97}\n",
      "0.3321592225106763 0.516959359685351 {'criterion': 'entropy', 'max_depth': 37}\n",
      "0.33214801331569993 0.516959359685351 {'criterion': 'gini', 'max_depth': 46}\n",
      "0.3321231943396072 0.516959359685351 {'criterion': 'entropy', 'max_depth': 99}\n",
      "0.3321211069748749 0.516959359685351 {'criterion': 'gini', 'max_depth': 38}\n",
      "0.33201257676394336 0.516959359685351 {'criterion': 'gini', 'max_depth': 72}\n",
      "0.3319888592109886 0.516959359685351 {'criterion': 'gini', 'max_depth': 60}\n",
      "0.3319691302377994 0.516959359685351 {'criterion': 'gini', 'max_depth': 91}\n",
      "0.3319214367393493 0.516959359685351 {'criterion': 'gini', 'max_depth': 64}\n",
      "0.331881489962133 0.516959359685351 {'criterion': 'gini', 'max_depth': 40}\n",
      "0.3318626459476594 0.516959359685351 {'criterion': 'gini', 'max_depth': 85}\n",
      "0.33185741514368744 0.516959359685351 {'criterion': 'gini', 'max_depth': 89}\n",
      "0.3318218952611195 0.516959359685351 {'criterion': 'gini', 'max_depth': 74}\n",
      "0.33170963939864284 0.5164930548131543 {'criterion': 'entropy', 'max_depth': 26}\n",
      "0.33169960361669293 0.516959359685351 {'criterion': 'gini', 'max_depth': 56}\n",
      "0.3315186139065166 0.516959359685351 {'criterion': 'gini', 'max_depth': 94}\n",
      "0.33148833551013535 0.516959359685351 {'criterion': 'gini', 'max_depth': 68}\n",
      "0.33142773264690345 0.516959359685351 {'criterion': 'gini', 'max_depth': 70}\n",
      "0.3312581467260706 0.516959359685351 {'criterion': 'gini', 'max_depth': 31}\n",
      "0.331237810822974 0.516959359685351 {'criterion': 'entropy', 'max_depth': 93}\n",
      "0.33118549587351376 0.516959359685351 {'criterion': 'gini', 'max_depth': 95}\n",
      "0.3311659064095668 0.516959359685351 {'criterion': 'entropy', 'max_depth': 77}\n",
      "0.33106402570265614 0.516959359685351 {'criterion': 'entropy', 'max_depth': 54}\n",
      "0.3309208271664024 0.516959359685351 {'criterion': 'gini', 'max_depth': 76}\n",
      "0.3308965731332176 0.516959359685351 {'criterion': 'entropy', 'max_depth': 59}\n",
      "0.3308949062486537 0.516959359685351 {'criterion': 'gini', 'max_depth': 33}\n",
      "0.3308646129241218 0.516959359685351 {'criterion': 'gini', 'max_depth': 39}\n",
      "0.3308588457957241 0.516959359685351 {'criterion': 'gini', 'max_depth': 79}\n",
      "0.33085431426934936 0.5154254494048052 {'criterion': 'entropy', 'max_depth': 25}\n",
      "0.3308233066128282 0.516959359685351 {'criterion': 'entropy', 'max_depth': 39}\n",
      "0.33082046233843154 0.516959359685351 {'criterion': 'entropy', 'max_depth': 62}\n",
      "0.3308021474202822 0.516959359685351 {'criterion': 'entropy', 'max_depth': 33}\n",
      "0.3307774860710248 0.516959359685351 {'criterion': 'entropy', 'max_depth': 46}\n",
      "0.3307568490795905 0.516959359685351 {'criterion': 'entropy', 'max_depth': 35}\n",
      "0.33074774428252324 0.5168545663676896 {'criterion': 'entropy', 'max_depth': 28}\n",
      "0.3306834120681748 0.516959359685351 {'criterion': 'entropy', 'max_depth': 71}\n",
      "0.33066388693174426 0.516959359685351 {'criterion': 'entropy', 'max_depth': 38}\n",
      "0.33064309154811955 0.5096887187976991 {'criterion': 'entropy', 'max_depth': 22}\n",
      "0.33062737544752246 0.516959359685351 {'criterion': 'gini', 'max_depth': 90}\n",
      "0.33061201300666015 0.516959359685351 {'criterion': 'gini', 'max_depth': 88}\n",
      "0.33059618674309654 0.516959359685351 {'criterion': 'entropy', 'max_depth': 58}\n",
      "0.33059597771519955 0.516959359685351 {'criterion': 'entropy', 'max_depth': 94}\n",
      "0.33056870976012526 0.516959359685351 {'criterion': 'gini', 'max_depth': 37}\n",
      "0.3305589490401091 0.516959359685351 {'criterion': 'gini', 'max_depth': 80}\n",
      "0.330545404155957 0.516959359685351 {'criterion': 'entropy', 'max_depth': 57}\n",
      "0.3305396623884934 0.516959359685351 {'criterion': 'gini', 'max_depth': 93}\n",
      "0.3305287332203463 0.516959359685351 {'criterion': 'entropy', 'max_depth': 86}\n",
      "0.3304631443872301 0.516959359685351 {'criterion': 'gini', 'max_depth': 35}\n",
      "0.3304440571428027 0.516959359685351 {'criterion': 'entropy', 'max_depth': 76}\n",
      "0.330375542858859 0.516959359685351 {'criterion': 'gini', 'max_depth': 75}\n",
      "0.33035094014718447 0.516959359685351 {'criterion': 'entropy', 'max_depth': 56}\n",
      "0.3303387907311385 0.516959359685351 {'criterion': 'gini', 'max_depth': 67}\n",
      "0.33032876926807875 0.516959359685351 {'criterion': 'entropy', 'max_depth': 51}\n",
      "0.3303262378245827 0.516959359685351 {'criterion': 'entropy', 'max_depth': 55}\n",
      "0.33032323248530304 0.516959359685351 {'criterion': 'entropy', 'max_depth': 79}\n",
      "0.3303218255780904 0.516959359685351 {'criterion': 'gini', 'max_depth': 84}\n",
      "0.33027216774076545 0.516959359685351 {'criterion': 'entropy', 'max_depth': 53}\n",
      "0.3302582532337925 0.516959359685351 {'criterion': 'gini', 'max_depth': 87}\n",
      "0.33022114900903093 0.516959359685351 {'criterion': 'entropy', 'max_depth': 98}\n",
      "0.3302039954928147 0.516959359685351 {'criterion': 'gini', 'max_depth': 48}\n",
      "0.3301870891505011 0.516959359685351 {'criterion': 'entropy', 'max_depth': 95}\n",
      "0.3301649051291095 0.516959359685351 {'criterion': 'entropy', 'max_depth': 91}\n",
      "0.33015037780155615 0.5125114903019596 {'criterion': 'entropy', 'max_depth': 23}\n",
      "0.3301417410995259 0.516959359685351 {'criterion': 'gini', 'max_depth': 54}\n",
      "0.33011387367459927 0.516959359685351 {'criterion': 'entropy', 'max_depth': 52}\n",
      "0.3301098868863403 0.516959359685351 {'criterion': 'gini', 'max_depth': 43}\n",
      "0.33010171638162245 0.516959359685351 {'criterion': 'entropy', 'max_depth': 36}\n",
      "0.3300969934822901 0.516959359685351 {'criterion': 'entropy', 'max_depth': 49}\n",
      "0.3300821505107098 0.516959359685351 {'criterion': 'gini', 'max_depth': 92}\n",
      "0.3300737261664916 0.516959359685351 {'criterion': 'gini', 'max_depth': 65}\n",
      "0.3300721229874847 0.516959359685351 {'criterion': 'entropy', 'max_depth': 41}\n",
      "0.33006501609670197 0.5168071552689226 {'criterion': 'gini', 'max_depth': 28}\n",
      "0.3300483032229943 0.516959359685351 {'criterion': 'gini', 'max_depth': 61}\n",
      "0.3300386568156139 0.516959359685351 {'criterion': 'gini', 'max_depth': 98}\n",
      "0.3299518275055664 0.516959359685351 {'criterion': 'gini', 'max_depth': 58}\n",
      "0.32994936206354236 0.516959359685351 {'criterion': 'gini', 'max_depth': 66}\n",
      "0.32991207399292777 0.516959359685351 {'criterion': 'gini', 'max_depth': 42}\n",
      "0.32984589825635624 0.516959359685351 {'criterion': 'entropy', 'max_depth': 85}\n",
      "0.32980915412469775 0.516959359685351 {'criterion': 'entropy', 'max_depth': 70}\n",
      "0.32979966369398755 0.5115015109556111 {'criterion': 'gini', 'max_depth': 24}\n",
      "0.32973139136648977 0.5169339559278507 {'criterion': 'gini', 'max_depth': 30}\n",
      "0.3296875450495868 0.5139895928062047 {'criterion': 'gini', 'max_depth': 25}\n",
      "0.32962417693455653 0.516959359685351 {'criterion': 'gini', 'max_depth': 52}\n",
      "0.3296028436704881 0.516959359685351 {'criterion': 'gini', 'max_depth': 55}\n",
      "0.32959196367401566 0.516959359685351 {'criterion': 'gini', 'max_depth': 63}\n",
      "0.32952830551160767 0.5056813070838594 {'criterion': 'gini', 'max_depth': 22}\n",
      "0.3286252916407437 0.5026189222537443 {'criterion': 'gini', 'max_depth': 21}\n",
      "0.3285169626577426 0.47252266679263677 {'criterion': 'entropy', 'max_depth': 17}\n",
      "0.32851133176732983 0.516959359685351 {'criterion': 'entropy', 'max_depth': 45}\n",
      "0.32848054170099494 0.4991556739597393 {'criterion': 'entropy', 'max_depth': 20}\n",
      "0.32838516802669393 0.516959359685351 {'criterion': 'entropy', 'max_depth': 68}\n",
      "0.328298274435649 0.5085569482803537 {'criterion': 'gini', 'max_depth': 23}\n",
      "0.3279882939154989 0.516959359685351 {'criterion': 'entropy', 'max_depth': 74}\n",
      "0.3279029924754481 0.49132747917452785 {'criterion': 'entropy', 'max_depth': 19}\n",
      "0.32776702214081677 0.5140528737294275 {'criterion': 'entropy', 'max_depth': 24}\n",
      "0.3276551751455335 0.516959359685351 {'criterion': 'entropy', 'max_depth': 32}\n",
      "0.3273627801190579 0.46247870782870065 {'criterion': 'entropy', 'max_depth': 16}\n",
      "0.3265902614076185 0.49730598925978986 {'criterion': 'gini', 'max_depth': 20}\n",
      "0.3254769923470084 0.4909470080290818 {'criterion': 'gini', 'max_depth': 19}\n",
      "0.3249341237619453 0.46877237278154726 {'criterion': 'gini', 'max_depth': 17}\n",
      "0.3238830340671647 0.48347692767596406 {'criterion': 'entropy', 'max_depth': 18}\n",
      "0.32284916470515346 0.47993605390951116 {'criterion': 'gini', 'max_depth': 18}\n",
      "0.3227224150853938 0.45806251434481815 {'criterion': 'gini', 'max_depth': 16}\n",
      "0.3218227619577386 0.44438788652363054 {'criterion': 'gini', 'max_depth': 15}\n",
      "0.31856441749843223 0.4288730119324845 {'criterion': 'gini', 'max_depth': 14}\n",
      "0.31842242143069543 0.4482920751935554 {'criterion': 'entropy', 'max_depth': 15}\n",
      "0.3173049363870869 0.43301183088845774 {'criterion': 'entropy', 'max_depth': 14}\n",
      "0.31667660574952383 0.4011926638621226 {'criterion': 'entropy', 'max_depth': 12}\n",
      "0.3140837176299708 0.38628342767035617 {'criterion': 'entropy', 'max_depth': 11}\n",
      "0.312559050099089 0.417047273183717 {'criterion': 'entropy', 'max_depth': 13}\n",
      "0.3117391797807523 0.41040825262192177 {'criterion': 'gini', 'max_depth': 13}\n",
      "0.31016274649410885 0.3710774988291396 {'criterion': 'entropy', 'max_depth': 10}\n",
      "0.309766771810837 0.35623817688543274 {'criterion': 'entropy', 'max_depth': 9}\n",
      "0.30702515130257046 0.3981620018944346 {'criterion': 'gini', 'max_depth': 12}\n",
      "0.3064361681466618 0.37929739270724205 {'criterion': 'gini', 'max_depth': 11}\n",
      "0.3053292772897157 0.3590382620117475 {'criterion': 'gini', 'max_depth': 10}\n",
      "0.30372211369970425 0.32240260871525345 {'criterion': 'entropy', 'max_depth': 7}\n",
      "0.3030625161632403 0.34301868886948317 {'criterion': 'gini', 'max_depth': 9}\n",
      "0.3025695211650223 0.3370903041511041 {'criterion': 'entropy', 'max_depth': 8}\n",
      "0.30212820767896653 0.3303917727406151 {'criterion': 'gini', 'max_depth': 8}\n",
      "0.30078697559165574 0.3183856338251293 {'criterion': 'gini', 'max_depth': 7}\n",
      "0.3001747105281939 0.31212283139841 {'criterion': 'gini', 'max_depth': 6}\n",
      "0.29980288922536713 0.3132558318680194 {'criterion': 'entropy', 'max_depth': 6}\n",
      "0.2996909525677463 0.30592142886642576 {'criterion': 'gini', 'max_depth': 5}\n",
      "0.2983537948194191 0.3025438479194001 {'criterion': 'entropy', 'max_depth': 4}\n",
      "0.29680655836134384 0.30239398978319754 {'criterion': 'gini', 'max_depth': 4}\n",
      "0.2957873982612836 0.3058717560818246 {'criterion': 'entropy', 'max_depth': 5}\n",
      "0.29552808431814326 0.29552808265629865 {'criterion': 'gini', 'max_depth': 2}\n",
      "0.29552808431814326 0.29552808265629865 {'criterion': 'gini', 'max_depth': 1}\n",
      "0.29552808431814326 0.29552808265629865 {'criterion': 'entropy', 'max_depth': 2}\n",
      "0.29552808431814326 0.29552808265629865 {'criterion': 'entropy', 'max_depth': 1}\n",
      "0.29550461057401944 0.29846663527403605 {'criterion': 'gini', 'max_depth': 3}\n",
      "0.29550461057401944 0.29846663527403605 {'criterion': 'entropy', 'max_depth': 3}\n"
     ]
    }
   ],
   "source": [
    "#Let's review the scores achieved by all the models in the search grid:\n",
    "val_scores = d_grid_search.cv_results_[\"mean_test_score\"]\n",
    "train_scores = d_grid_search.cv_results_[\"mean_train_score\"]\n",
    "params = [str(x) for x in d_grid_search.cv_results_[\"params\"]]\n",
    "\n",
    "for val_score, train_score, param in sorted(zip(val_scores, train_scores, params), reverse=True):\n",
    "    print(val_score, train_score, param)"
   ]
  },
  {
   "cell_type": "markdown",
   "metadata": {},
   "source": [
    "The performance of Decision tree classifiers varies a lot across the runs, between 0.29 and 0.33. In particular, we notice that better performance is achieved with greater values of max_depth. However, at higher values of this hyperparameter, we notice some evidence of overfitting: the performance on training parts is considerably better than on the validation part."
   ]
  },
  {
   "cell_type": "code",
   "execution_count": 76,
   "metadata": {},
   "outputs": [
    {
     "name": "stdout",
     "output_type": "stream",
     "text": [
      "Wet: 0.11493820290649132\n",
      "Night: 0.07285132708165853\n",
      "Raining: 0.07078758712826407\n",
      "Tuesday: 0.04822930787564663\n",
      "Thursday: 0.04245949135093552\n",
      "Wednesday: 0.036817181887156485\n",
      "No High Winds: 0.03541194844623431\n",
      "Visible: 0.034751714541261754\n",
      "Daylight: 0.03439751872718033\n",
      "Monday: 0.03426193513412502\n",
      "January: 0.033270638910824483\n",
      "September: 0.031291934033193816\n",
      "October: 0.03127037168440578\n",
      "August: 0.03091610630308548\n",
      "March: 0.030275356090448895\n",
      "November: 0.029270884727498572\n",
      "Other: 0.029078130091947044\n",
      "Sunday: 0.027194016421734253\n",
      "June: 0.02650202166387926\n",
      "December: 0.024995272969447486\n",
      "Saturday: 0.024679369260915112\n",
      "Urban: 0.023821041855641416\n",
      "February: 0.023687788569838174\n",
      "July: 0.020559730770109197\n",
      "Frost: 0.019476105702973517\n",
      "May: 0.016548459080408626\n",
      "Darkness with lights unlit: 0.015311740779336296\n",
      "Darkness with no lighting: 0.012430924987446182\n",
      "Fog or mist: 0.011285265168420204\n",
      "Snowing: 0.007493082560717993\n",
      "Flood: 0.0038977040470239044\n",
      "Snow: 0.0018378392417501975\n",
      "Number_of_Casualties: 0.0\n"
     ]
    }
   ],
   "source": [
    "# put them into a separate variable for convenience\n",
    "feature_importances = d_grid_search.best_estimator_.feature_importances_\n",
    "\n",
    "# the order of the features in `feature_importances` is the same as in the Xtrain dataframe,\n",
    "# so we can \"zip\" the two and print in the descending order:\n",
    "\n",
    "for k, v in sorted(zip(feature_importances, Xtrain.columns), reverse=True):\n",
    "    print(f\"{v}: {k}\")"
   ]
  },
  {
   "cell_type": "markdown",
   "metadata": {},
   "source": [
    "Top 3 important features of this model are wet(Road condition), Night(Time), Raining(weather)\n",
    "Least important features are Flood(Road condition), snow and Number of casualties"
   ]
  },
  {
   "cell_type": "code",
   "execution_count": 77,
   "metadata": {},
   "outputs": [
    {
     "data": {
      "text/plain": [
       "['models/dt-clf.joblib']"
      ]
     },
     "execution_count": 77,
     "metadata": {},
     "output_type": "execute_result"
    }
   ],
   "source": [
    "#This code is storing the model in \"joblib\" function for future reference, as again running the model \n",
    "#from scratch will be very time consuming, so to save time we are doing this\n",
    "import os\n",
    "from joblib import dump\n",
    "\n",
    "# create a folder where all trained models will be kept\n",
    "if not os.path.exists(\"models\"):\n",
    "    os.makedirs(\"models\")\n",
    "    \n",
    "dump(d_grid_search.best_estimator_, 'models/dt-clf.joblib')"
   ]
  },
  {
   "cell_type": "markdown",
   "metadata": {},
   "source": [
    "## 2.11 Gradient Boosting Classifier using Grid Search\n",
    "**We are using grid serach CV library function, it helps in getting best model by doing Hyperparameter tunning automatically on mentioned parameters and gives us the best parameters.**"
   ]
  },
  {
   "cell_type": "code",
   "execution_count": 78,
   "metadata": {},
   "outputs": [
    {
     "name": "stderr",
     "output_type": "stream",
     "text": [
      "/Users/piyushchaudhary/opt/anaconda3/lib/python3.8/site-packages/joblib/externals/loky/process_executor.py:688: UserWarning: A worker stopped while some jobs were given to the executor. This can be caused by a too short worker timeout or by a memory leak.\n",
      "  warnings.warn(\n"
     ]
    },
    {
     "name": "stdout",
     "output_type": "stream",
     "text": [
      "Took 1973.9077842235565 seconds\n"
     ]
    }
   ],
   "source": [
    "#Importing grid serach from sklearn.model_selection\n",
    "from sklearn.model_selection import GridSearchCV\n",
    "\n",
    "#Importing GradientBoostingClassifier\n",
    "from sklearn.ensemble import GradientBoostingClassifier\n",
    "\n",
    "model = GradientBoostingClassifier()\n",
    "\n",
    "#specifying the hyper-parametrs and their values\n",
    "n_estimators = [10, 100, 1000]\n",
    "learning_rate = [0.001, 0.01, 0.1]\n",
    "subsample = [0.5, 0.7, 1.0]\n",
    "max_depth = [3, 7, 9]\n",
    "grid = dict(learning_rate=learning_rate, n_estimators=n_estimators, subsample=subsample, max_depth=max_depth)\n",
    "\n",
    "# we'll use 5-fold cross-validation\n",
    "gb_search = GridSearchCV(estimator=model, param_grid=grid, n_jobs=-1, cv=5, \n",
    "                           scoring='f1_macro',return_train_score=True)\n",
    "\n",
    "start = time.time()\n",
    "gb_search.fit(Xtrain,ytrain)\n",
    "end = time.time() - start\n",
    "print(f\"Took {end} seconds\")"
   ]
  },
  {
   "cell_type": "code",
   "execution_count": 79,
   "metadata": {},
   "outputs": [
    {
     "data": {
      "text/plain": [
       "GradientBoostingClassifier(max_depth=9, n_estimators=1000, subsample=0.5)"
      ]
     },
     "execution_count": 79,
     "metadata": {},
     "output_type": "execute_result"
    }
   ],
   "source": [
    "#displaying the best estimators for this model\n",
    "gb_search.best_estimator_"
   ]
  },
  {
   "cell_type": "code",
   "execution_count": 80,
   "metadata": {},
   "outputs": [
    {
     "data": {
      "text/plain": [
       "0.3243654899710668"
      ]
     },
     "execution_count": 80,
     "metadata": {},
     "output_type": "execute_result"
    }
   ],
   "source": [
    "#Displaying the best score (accuracy)\n",
    "gb_search.best_score_"
   ]
  },
  {
   "cell_type": "markdown",
   "metadata": {},
   "source": [
    "The best score we got is 32.43% still better than baseline model with best estimators GradientBoostingClassifier(max_depth=9, n_estimators=1000, subsample=0.5)"
   ]
  },
  {
   "cell_type": "code",
   "execution_count": 81,
   "metadata": {},
   "outputs": [
    {
     "data": {
      "text/plain": [
       "78"
      ]
     },
     "execution_count": 81,
     "metadata": {},
     "output_type": "execute_result"
    }
   ],
   "source": [
    "#Displaying the best performing model rank index\n",
    "gb_search.cv_results_[\"rank_test_score\"].tolist().index(1)"
   ]
  },
  {
   "cell_type": "code",
   "execution_count": 82,
   "metadata": {},
   "outputs": [],
   "source": [
    "gb_split_test_scores = []\n",
    "for x in range(5):\n",
    "# extract f-score of the best model (index=78) from each of the 5 splits \n",
    "    val = gb_search.cv_results_[f\"split{x}_test_score\"][78] \n",
    "    gb_split_test_scores.append(val)"
   ]
  },
  {
   "cell_type": "code",
   "execution_count": 83,
   "metadata": {},
   "outputs": [
    {
     "name": "stdout",
     "output_type": "stream",
     "text": [
      "0.3243654899710668 0.4827494093881091 {'learning_rate': 0.1, 'max_depth': 9, 'n_estimators': 1000, 'subsample': 0.5}\n",
      "0.3236765730740103 0.4825099931446825 {'learning_rate': 0.1, 'max_depth': 7, 'n_estimators': 1000, 'subsample': 0.7}\n",
      "0.31932362556197 0.47132285282499 {'learning_rate': 0.1, 'max_depth': 9, 'n_estimators': 1000, 'subsample': 1.0}\n",
      "0.3182350731974497 0.4705977975415386 {'learning_rate': 0.1, 'max_depth': 9, 'n_estimators': 100, 'subsample': 0.7}\n",
      "0.31806526116348566 0.4863500237724249 {'learning_rate': 0.1, 'max_depth': 9, 'n_estimators': 1000, 'subsample': 0.7}\n",
      "0.3170882824827664 0.48287756825428224 {'learning_rate': 0.1, 'max_depth': 7, 'n_estimators': 1000, 'subsample': 0.5}\n",
      "0.317071767093978 0.4596957215556565 {'learning_rate': 0.1, 'max_depth': 9, 'n_estimators': 100, 'subsample': 0.5}\n",
      "0.3155939254129743 0.4598971674405378 {'learning_rate': 0.01, 'max_depth': 9, 'n_estimators': 1000, 'subsample': 0.7}\n",
      "0.31538252432057495 0.4575316771390957 {'learning_rate': 0.1, 'max_depth': 9, 'n_estimators': 100, 'subsample': 1.0}\n",
      "0.3136467332251443 0.43346905587057716 {'learning_rate': 0.1, 'max_depth': 7, 'n_estimators': 100, 'subsample': 0.7}\n",
      "0.313034216264887 0.47589786963287495 {'learning_rate': 0.1, 'max_depth': 7, 'n_estimators': 1000, 'subsample': 1.0}\n",
      "0.3127557722748163 0.4535241583735078 {'learning_rate': 0.01, 'max_depth': 9, 'n_estimators': 1000, 'subsample': 1.0}\n",
      "0.31057156435043654 0.4277352836540736 {'learning_rate': 0.01, 'max_depth': 7, 'n_estimators': 1000, 'subsample': 0.7}\n",
      "0.3088960562760633 0.4554341312879388 {'learning_rate': 0.01, 'max_depth': 9, 'n_estimators': 1000, 'subsample': 0.5}\n",
      "0.30878532941214204 0.36587707067797226 {'learning_rate': 0.1, 'max_depth': 9, 'n_estimators': 10, 'subsample': 1.0}\n",
      "0.30775593149163405 0.41816789168638435 {'learning_rate': 0.1, 'max_depth': 7, 'n_estimators': 100, 'subsample': 1.0}\n",
      "0.30703284974341943 0.4146049697391768 {'learning_rate': 0.01, 'max_depth': 7, 'n_estimators': 1000, 'subsample': 1.0}\n",
      "0.30660736596919386 0.3478545935537799 {'learning_rate': 0.1, 'max_depth': 7, 'n_estimators': 10, 'subsample': 0.5}\n",
      "0.30548890612722 0.4258274470067807 {'learning_rate': 0.1, 'max_depth': 7, 'n_estimators': 100, 'subsample': 0.5}\n",
      "0.30497570793509726 0.4179402037107421 {'learning_rate': 0.01, 'max_depth': 7, 'n_estimators': 1000, 'subsample': 0.5}\n",
      "0.3034064886960977 0.3711018838282151 {'learning_rate': 0.1, 'max_depth': 9, 'n_estimators': 10, 'subsample': 0.5}\n",
      "0.3022761730891812 0.37155739005003724 {'learning_rate': 0.1, 'max_depth': 9, 'n_estimators': 10, 'subsample': 0.7}\n",
      "0.3022086511041875 0.3422938935046931 {'learning_rate': 0.1, 'max_depth': 7, 'n_estimators': 10, 'subsample': 1.0}\n",
      "0.30135745220948024 0.3520973287314606 {'learning_rate': 0.01, 'max_depth': 9, 'n_estimators': 100, 'subsample': 1.0}\n",
      "0.301175133929769 0.35780234447299775 {'learning_rate': 0.1, 'max_depth': 3, 'n_estimators': 1000, 'subsample': 0.7}\n",
      "0.301158846405359 0.35179984985809687 {'learning_rate': 0.001, 'max_depth': 9, 'n_estimators': 1000, 'subsample': 1.0}\n",
      "0.3008710318314248 0.34501724653392685 {'learning_rate': 0.1, 'max_depth': 7, 'n_estimators': 10, 'subsample': 0.7}\n",
      "0.30012793969755175 0.359447978679912 {'learning_rate': 0.1, 'max_depth': 3, 'n_estimators': 1000, 'subsample': 0.5}\n",
      "0.2996039895919386 0.32737736513759763 {'learning_rate': 0.01, 'max_depth': 7, 'n_estimators': 100, 'subsample': 1.0}\n",
      "0.2996039895919386 0.3271735939150622 {'learning_rate': 0.001, 'max_depth': 7, 'n_estimators': 1000, 'subsample': 1.0}\n",
      "0.29818301562584604 0.354991253684169 {'learning_rate': 0.1, 'max_depth': 3, 'n_estimators': 1000, 'subsample': 1.0}\n",
      "0.2966490225651905 0.31787077798222346 {'learning_rate': 0.001, 'max_depth': 9, 'n_estimators': 1000, 'subsample': 0.7}\n",
      "0.29663670860421953 0.31874015807287115 {'learning_rate': 0.01, 'max_depth': 9, 'n_estimators': 100, 'subsample': 0.7}\n",
      "0.29645236648313633 0.3101939111907396 {'learning_rate': 0.01, 'max_depth': 3, 'n_estimators': 1000, 'subsample': 1.0}\n",
      "0.2963871691950394 0.3083248190348436 {'learning_rate': 0.1, 'max_depth': 3, 'n_estimators': 100, 'subsample': 0.7}\n",
      "0.2962096698421125 0.31029691584022095 {'learning_rate': 0.1, 'max_depth': 3, 'n_estimators': 100, 'subsample': 1.0}\n",
      "0.2960653706834939 0.3072948625706594 {'learning_rate': 0.01, 'max_depth': 3, 'n_estimators': 1000, 'subsample': 0.7}\n",
      "0.29571177838589974 0.30722703368922694 {'learning_rate': 0.01, 'max_depth': 7, 'n_estimators': 100, 'subsample': 0.7}\n",
      "0.29570004151383783 0.3047106265737729 {'learning_rate': 0.01, 'max_depth': 9, 'n_estimators': 100, 'subsample': 0.5}\n",
      "0.295652786858964 0.306597928159026 {'learning_rate': 0.01, 'max_depth': 3, 'n_estimators': 1000, 'subsample': 0.5}\n",
      "0.29557057303447515 0.3088465134115033 {'learning_rate': 0.1, 'max_depth': 3, 'n_estimators': 100, 'subsample': 0.5}\n",
      "0.29552808431814326 0.30130387429774863 {'learning_rate': 0.01, 'max_depth': 7, 'n_estimators': 100, 'subsample': 0.5}\n",
      "0.29552808431814326 0.29892737460315494 {'learning_rate': 0.001, 'max_depth': 7, 'n_estimators': 1000, 'subsample': 0.5}\n",
      "0.29552808431814326 0.29552808265629865 {'learning_rate': 0.01, 'max_depth': 9, 'n_estimators': 10, 'subsample': 1.0}\n",
      "0.29552808431814326 0.29552808265629865 {'learning_rate': 0.01, 'max_depth': 9, 'n_estimators': 10, 'subsample': 0.7}\n",
      "0.29552808431814326 0.29552808265629865 {'learning_rate': 0.01, 'max_depth': 9, 'n_estimators': 10, 'subsample': 0.5}\n",
      "0.29552808431814326 0.29552808265629865 {'learning_rate': 0.01, 'max_depth': 7, 'n_estimators': 10, 'subsample': 1.0}\n",
      "0.29552808431814326 0.29552808265629865 {'learning_rate': 0.01, 'max_depth': 7, 'n_estimators': 10, 'subsample': 0.7}\n",
      "0.29552808431814326 0.29552808265629865 {'learning_rate': 0.01, 'max_depth': 7, 'n_estimators': 10, 'subsample': 0.5}\n",
      "0.29552808431814326 0.29552808265629865 {'learning_rate': 0.01, 'max_depth': 3, 'n_estimators': 100, 'subsample': 1.0}\n",
      "0.29552808431814326 0.29552808265629865 {'learning_rate': 0.01, 'max_depth': 3, 'n_estimators': 100, 'subsample': 0.7}\n",
      "0.29552808431814326 0.29552808265629865 {'learning_rate': 0.01, 'max_depth': 3, 'n_estimators': 100, 'subsample': 0.5}\n",
      "0.29552808431814326 0.29552808265629865 {'learning_rate': 0.01, 'max_depth': 3, 'n_estimators': 10, 'subsample': 1.0}\n",
      "0.29552808431814326 0.29552808265629865 {'learning_rate': 0.01, 'max_depth': 3, 'n_estimators': 10, 'subsample': 0.7}\n",
      "0.29552808431814326 0.29552808265629865 {'learning_rate': 0.01, 'max_depth': 3, 'n_estimators': 10, 'subsample': 0.5}\n",
      "0.29552808431814326 0.29552808265629865 {'learning_rate': 0.001, 'max_depth': 9, 'n_estimators': 100, 'subsample': 1.0}\n",
      "0.29552808431814326 0.29552808265629865 {'learning_rate': 0.001, 'max_depth': 9, 'n_estimators': 100, 'subsample': 0.7}\n",
      "0.29552808431814326 0.29552808265629865 {'learning_rate': 0.001, 'max_depth': 9, 'n_estimators': 100, 'subsample': 0.5}\n",
      "0.29552808431814326 0.29552808265629865 {'learning_rate': 0.001, 'max_depth': 9, 'n_estimators': 10, 'subsample': 1.0}\n",
      "0.29552808431814326 0.29552808265629865 {'learning_rate': 0.001, 'max_depth': 9, 'n_estimators': 10, 'subsample': 0.7}\n",
      "0.29552808431814326 0.29552808265629865 {'learning_rate': 0.001, 'max_depth': 9, 'n_estimators': 10, 'subsample': 0.5}\n",
      "0.29552808431814326 0.29552808265629865 {'learning_rate': 0.001, 'max_depth': 7, 'n_estimators': 100, 'subsample': 1.0}\n",
      "0.29552808431814326 0.29552808265629865 {'learning_rate': 0.001, 'max_depth': 7, 'n_estimators': 100, 'subsample': 0.7}\n",
      "0.29552808431814326 0.29552808265629865 {'learning_rate': 0.001, 'max_depth': 7, 'n_estimators': 100, 'subsample': 0.5}\n",
      "0.29552808431814326 0.29552808265629865 {'learning_rate': 0.001, 'max_depth': 7, 'n_estimators': 10, 'subsample': 1.0}\n",
      "0.29552808431814326 0.29552808265629865 {'learning_rate': 0.001, 'max_depth': 7, 'n_estimators': 10, 'subsample': 0.7}\n",
      "0.29552808431814326 0.29552808265629865 {'learning_rate': 0.001, 'max_depth': 7, 'n_estimators': 10, 'subsample': 0.5}\n",
      "0.29552808431814326 0.29552808265629865 {'learning_rate': 0.001, 'max_depth': 3, 'n_estimators': 1000, 'subsample': 1.0}\n",
      "0.29552808431814326 0.29552808265629865 {'learning_rate': 0.001, 'max_depth': 3, 'n_estimators': 1000, 'subsample': 0.7}\n",
      "0.29552808431814326 0.29552808265629865 {'learning_rate': 0.001, 'max_depth': 3, 'n_estimators': 1000, 'subsample': 0.5}\n",
      "0.29552808431814326 0.29552808265629865 {'learning_rate': 0.001, 'max_depth': 3, 'n_estimators': 100, 'subsample': 1.0}\n",
      "0.29552808431814326 0.29552808265629865 {'learning_rate': 0.001, 'max_depth': 3, 'n_estimators': 100, 'subsample': 0.7}\n",
      "0.29552808431814326 0.29552808265629865 {'learning_rate': 0.001, 'max_depth': 3, 'n_estimators': 100, 'subsample': 0.5}\n",
      "0.29552808431814326 0.29552808265629865 {'learning_rate': 0.001, 'max_depth': 3, 'n_estimators': 10, 'subsample': 1.0}\n",
      "0.29552808431814326 0.29552808265629865 {'learning_rate': 0.001, 'max_depth': 3, 'n_estimators': 10, 'subsample': 0.7}\n",
      "0.29552808431814326 0.29552808265629865 {'learning_rate': 0.001, 'max_depth': 3, 'n_estimators': 10, 'subsample': 0.5}\n",
      "0.2955163478244208 0.29627948257248804 {'learning_rate': 0.1, 'max_depth': 3, 'n_estimators': 10, 'subsample': 1.0}\n",
      "0.2954928637000215 0.30549543481200814 {'learning_rate': 0.001, 'max_depth': 7, 'n_estimators': 1000, 'subsample': 0.7}\n",
      "0.2954811342531828 0.3014087067800545 {'learning_rate': 0.1, 'max_depth': 3, 'n_estimators': 10, 'subsample': 0.7}\n",
      "0.2954811268279595 0.30393807105032844 {'learning_rate': 0.001, 'max_depth': 9, 'n_estimators': 1000, 'subsample': 0.5}\n",
      "0.29544590097698303 0.2999457511294003 {'learning_rate': 0.1, 'max_depth': 3, 'n_estimators': 10, 'subsample': 0.5}\n"
     ]
    }
   ],
   "source": [
    "#Let's review the scores achieved by all the models in the search grid:\n",
    "val_scores = gb_search.cv_results_[\"mean_test_score\"]\n",
    "train_scores = gb_search.cv_results_[\"mean_train_score\"]\n",
    "params = [str(x) for x in gb_search.cv_results_[\"params\"]]\n",
    "\n",
    "for val_score, train_score, param in sorted(zip(val_scores, train_scores, params), reverse=True):\n",
    "    print(val_score, train_score, param)"
   ]
  },
  {
   "cell_type": "markdown",
   "metadata": {},
   "source": [
    "The performance of Gradient boosting classifiers varies a lot across the runs, between 0.29 and 0.32. In particular, we notice that better performance is achieved with greater values of `max_depth`. However, at higher values of this hyperparameter, we notice some evidence of overfitting: the performance on training parts is considerably better than on the validation part."
   ]
  },
  {
   "cell_type": "code",
   "execution_count": 84,
   "metadata": {},
   "outputs": [
    {
     "name": "stdout",
     "output_type": "stream",
     "text": [
      "Urban: 0.0990726516970581\n",
      "Night: 0.0968513899084105\n",
      "Wet: 0.08731539874549142\n",
      "Daylight: 0.07900413885341173\n",
      "Raining: 0.07585337387561703\n",
      "Tuesday: 0.03774327863543693\n",
      "Sunday: 0.03760218516312455\n",
      "Saturday: 0.03741038233052027\n",
      "Monday: 0.03711209131805721\n",
      "Thursday: 0.036023294663145355\n",
      "Wednesday: 0.0351178488544191\n",
      "Visible: 0.03502629224369002\n",
      "Darkness with no lighting: 0.03301321997882094\n",
      "No High Winds: 0.025309630662257162\n",
      "October: 0.020762944976114434\n",
      "January: 0.02061680174196086\n",
      "September: 0.01996014456820348\n",
      "August: 0.01989443401155624\n",
      "November: 0.01983506353292343\n",
      "December: 0.01884864259958577\n",
      "Other: 0.018221157180847894\n",
      "July: 0.01795333401115377\n",
      "May: 0.01708033697426926\n",
      "March: 0.016675092156103778\n",
      "June: 0.016047876640337813\n",
      "February: 0.01564827884723011\n",
      "Frost: 0.010571619609647118\n",
      "Darkness with lights unlit: 0.004380113644846227\n",
      "Fog or mist: 0.00368389816363814\n",
      "Snowing: 0.0029079388506622317\n",
      "Snow: 0.0026527254948946186\n",
      "Flood: 0.0018044200665645975\n",
      "Number_of_Casualties: 0.0\n"
     ]
    }
   ],
   "source": [
    "# put them into a separate variable for convenience\n",
    "feature_importances = gb_search.best_estimator_.feature_importances_\n",
    "\n",
    "# the order of the features in `feature_importances` is the same as in the Xtrain dataframe,\n",
    "# so we can \"zip\" the two and print in the descending order:\n",
    "\n",
    "for k, v in sorted(zip(feature_importances, Xtrain.columns), reverse=True):\n",
    "    print(f\"{v}: {k}\")"
   ]
  },
  {
   "cell_type": "markdown",
   "metadata": {},
   "source": [
    "Top 3 important feature of this model are urban, night and wet."
   ]
  },
  {
   "cell_type": "code",
   "execution_count": 85,
   "metadata": {},
   "outputs": [
    {
     "data": {
      "text/plain": [
       "['models/gbb-clf.joblib']"
      ]
     },
     "execution_count": 85,
     "metadata": {},
     "output_type": "execute_result"
    }
   ],
   "source": [
    "#This code is storing the model in \"joblib\" function for future reference, as again running the model \n",
    "#from scratch will be very time consuming, so to save time we are doing this\n",
    "import os\n",
    "from joblib import dump\n",
    "\n",
    "# create a folder where all trained models will be kept\n",
    "if not os.path.exists(\"models\"):\n",
    "    os.makedirs(\"models\")\n",
    "    \n",
    "dump(gb_search.best_estimator_, 'models/gbb-clf.joblib')"
   ]
  },
  {
   "cell_type": "markdown",
   "metadata": {},
   "source": [
    "# 3. Testing the best models\n",
    "**Now we will compare our top performing models on testset to test the accuracy of our models**\n",
    "\n",
    "#### Top Performing Models\n",
    "1. Random Forest with oversampling\n",
    "2. Linear Support Vector Machine with Oversampling\n",
    "3. KNN\n",
    "4. Descision Tree Classifier\n"
   ]
  },
  {
   "cell_type": "code",
   "execution_count": 86,
   "metadata": {},
   "outputs": [],
   "source": [
    "#Loading the models which we have saved earlier while modelling to save our time\n",
    "from joblib import load\n",
    "best_rf_o = load(\"models/rfo-clf.joblib\")\n",
    "lsvm_o = load(\"models/lo-clf.joblib\")\n",
    "knn_u = load(\"models/knn-clf.joblib\")\n",
    "des_tree_u = load(\"models/dt-clf.joblib\")"
   ]
  },
  {
   "cell_type": "markdown",
   "metadata": {},
   "source": [
    "## 1.Random Forest with oversampling"
   ]
  },
  {
   "cell_type": "code",
   "execution_count": 93,
   "metadata": {},
   "outputs": [
    {
     "name": "stdout",
     "output_type": "stream",
     "text": [
      "Random Forest with over Sampling:\n",
      "Precision: 0.3479296567603231\n",
      "Recall: 0.3592729592714116\n",
      "F score: 0.3479480381653001\n"
     ]
    }
   ],
   "source": [
    "#Importing precision, recall and fscore from sklearn.metrics library\n",
    "from sklearn.metrics import precision_recall_fscore_support\n",
    "\n",
    "yhat = best_rf_o.predict(Xtest)\n",
    "\n",
    "# micro-averaged precision, recall and f-score\n",
    "p, r, f, s = precision_recall_fscore_support(ytest, yhat, average=\"macro\")\n",
    "print(\"Random Forest with over Sampling:\")\n",
    "print(f\"Precision: {p}\")\n",
    "print(f\"Recall: {r}\")\n",
    "print(f\"F score: {f}\")"
   ]
  },
  {
   "cell_type": "markdown",
   "metadata": {},
   "source": [
    "Here we can see F score is very low only 34.79% of test records are predicted corretly, the score of predicting positive value (precision) is also very low only 35.92% of positive records predicted correct.\n",
    "\n",
    "Also f score is better on training data as compare to test data which suggest overfitting in the model"
   ]
  },
  {
   "cell_type": "code",
   "execution_count": 90,
   "metadata": {},
   "outputs": [
    {
     "data": {
      "text/plain": [
       "<sklearn.metrics._plot.confusion_matrix.ConfusionMatrixDisplay at 0x7fe3320368e0>"
      ]
     },
     "execution_count": 90,
     "metadata": {},
     "output_type": "execute_result"
    },
    {
     "data": {
      "image/png": "[encoded data removed]",
      "text/plain": [
       "<Figure size 432x288 with 2 Axes>"
      ]
     },
     "metadata": {
      "needs_background": "light"
     },
     "output_type": "display_data"
    }
   ],
   "source": [
    "#Importing confusion matrix from sklearn.metrics\n",
    "from sklearn.metrics import plot_confusion_matrix\n",
    "plot_confusion_matrix(best_rf_o, Xtest, ytest,\n",
    "cmap=plt.cm.Greens, normalize='true')\n"
   ]
  },
  {
   "cell_type": "markdown",
   "metadata": {},
   "source": [
    "By looking at above confusion matrix it can be concluded that this model predicting slight accident with 74% accuracy but not able to predict serious and fatal accident precisely. And 22% of slight accident are predicted as serious. 25% of serious and 8.3 % of fatal accident predicted correctly.\n",
    "\n",
    "Most of the accident are predicetd as slight by this model which is a concern."
   ]
  },
  {
   "cell_type": "markdown",
   "metadata": {},
   "source": [
    "## 2. Linear Support Vector Machine with Oversampling"
   ]
  },
  {
   "cell_type": "code",
   "execution_count": 94,
   "metadata": {},
   "outputs": [
    {
     "name": "stdout",
     "output_type": "stream",
     "text": [
      "Linear Support Vector Machine with Oversampling:\n",
      "Precision: 0.34694190097426664\n",
      "Recall: 0.40589609257310305\n",
      "F score: 0.28477717749660697\n"
     ]
    }
   ],
   "source": [
    "#Importing precision, recall and fscore from sklearn.metrics library\n",
    "from sklearn.metrics import precision_recall_fscore_support\n",
    "\n",
    "yhat = lsvm_o.predict(Xtest)\n",
    "\n",
    "# micro-averaged precision, recall and f-score\n",
    "p, r, f, s = precision_recall_fscore_support(ytest, yhat, average=\"macro\")\n",
    "print(\"Linear Support Vector Machine with Oversampling:\")\n",
    "print(f\"Precision: {p}\")\n",
    "print(f\"Recall: {r}\")\n",
    "print(f\"F score: {f}\")"
   ]
  },
  {
   "cell_type": "markdown",
   "metadata": {},
   "source": [
    "Here we can see F score is very low only 28.47% of test records are predicted corretly, the score of predicting positive value (precision) is also very low only 50.58% of positive records predicted correct.\n",
    "\n",
    "Also f score is better on training data as compare to test data which suggest overfitting in the model"
   ]
  },
  {
   "cell_type": "code",
   "execution_count": 95,
   "metadata": {},
   "outputs": [
    {
     "data": {
      "text/plain": [
       "<sklearn.metrics._plot.confusion_matrix.ConfusionMatrixDisplay at 0x7fe322dbca60>"
      ]
     },
     "execution_count": 95,
     "metadata": {},
     "output_type": "execute_result"
    },
    {
     "data": {
      "image/png": "[encoded data removed]",
      "text/plain": [
       "<Figure size 432x288 with 2 Axes>"
      ]
     },
     "metadata": {
      "needs_background": "light"
     },
     "output_type": "display_data"
    }
   ],
   "source": [
    "#Importing confusion matrix from sklearn.metrics\n",
    "from sklearn.metrics import plot_confusion_matrix\n",
    "plot_confusion_matrix(lsvm_o, Xtest, ytest,\n",
    "cmap=plt.cm.Greens, normalize='true')"
   ]
  },
  {
   "cell_type": "markdown",
   "metadata": {},
   "source": [
    "\n",
    "Here in above confusion matrix we can see that any type of accident severity is not predicted accurately only 50% of fatal accident 26% of serious accident and 46% of slight accident predicted correctly.This model predicting fatal accident better than any other model which is a good thing as prediction of fatal severity is more improtant as it can have serious damages and loss as copmare to slight and serious severities."
   ]
  },
  {
   "cell_type": "markdown",
   "metadata": {},
   "source": [
    "## 3. K-Nearest Neighbour"
   ]
  },
  {
   "cell_type": "code",
   "execution_count": 96,
   "metadata": {},
   "outputs": [
    {
     "name": "stdout",
     "output_type": "stream",
     "text": [
      "KNN:\n",
      "Precision: 0.34200702508581804\n",
      "Recall: 0.3426056190685826\n",
      "F score: 0.341966469187595\n"
     ]
    }
   ],
   "source": [
    "#Importing precision, recall and fscore from sklearn.metrics library\n",
    "from sklearn.metrics import precision_recall_fscore_support\n",
    "\n",
    "yhat = knn_u.predict(Xtest)\n",
    "\n",
    "# micro-averaged precision, recall and f-score\n",
    "p, r, f, s = precision_recall_fscore_support(ytest, yhat, average=\"macro\")\n",
    "print(\"KNN:\")\n",
    "print(f\"Precision: {p}\")\n",
    "print(f\"Recall: {r}\")\n",
    "print(f\"F score: {f}\")"
   ]
  },
  {
   "cell_type": "markdown",
   "metadata": {},
   "source": [
    "Here we can see F score is very low only 34.19% of test records are predicted corretly, the score of predicting positive value (precision) is also very low only 34.26% of positive records predicted correct."
   ]
  },
  {
   "cell_type": "code",
   "execution_count": 97,
   "metadata": {},
   "outputs": [
    {
     "data": {
      "text/plain": [
       "<sklearn.metrics._plot.confusion_matrix.ConfusionMatrixDisplay at 0x7fe322da7e20>"
      ]
     },
     "execution_count": 97,
     "metadata": {},
     "output_type": "execute_result"
    },
    {
     "data": {
      "image/png": "[encoded data removed]",
      "text/plain": [
       "<Figure size 432x288 with 2 Axes>"
      ]
     },
     "metadata": {
      "needs_background": "light"
     },
     "output_type": "display_data"
    }
   ],
   "source": [
    "#Importing confusion matrix from sklearn.metrics\n",
    "from sklearn.metrics import plot_confusion_matrix\n",
    "plot_confusion_matrix(knn_u, Xtest, ytest,\n",
    "cmap=plt.cm.Greens, normalize='true')"
   ]
  },
  {
   "cell_type": "markdown",
   "metadata": {},
   "source": [
    "Here in above confusion matrix we can see that only slight accident predicted with good accuracy of 81% and serious and fatal with 19% and 12% respectively. 17% of slight accident predicted as serious, and 79% of serious accident predicted as slight and 85% of fatal accident as slight which is not good for prediction.\n",
    "\n",
    "Most of the accident predicted as slight by this model, which is a major concern to look out."
   ]
  },
  {
   "cell_type": "markdown",
   "metadata": {},
   "source": [
    "## 4. Descision Tree Classifier"
   ]
  },
  {
   "cell_type": "code",
   "execution_count": 98,
   "metadata": {},
   "outputs": [
    {
     "name": "stdout",
     "output_type": "stream",
     "text": [
      "Descision Tree:\n",
      "Precision: 0.3573773357240322\n",
      "Recall: 0.34047023715351576\n",
      "F score: 0.32744408598551417\n"
     ]
    }
   ],
   "source": [
    "#Importing precision, recall and fscore from sklearn.metrics library\n",
    "from sklearn.metrics import precision_recall_fscore_support\n",
    "\n",
    "yhat = des_tree_u.predict(Xtest)\n",
    "\n",
    "# micro-averaged precision, recall and f-score\n",
    "p, r, f, s = precision_recall_fscore_support(ytest, yhat, average=\"macro\")\n",
    "print(\"Descision Tree:\")\n",
    "print(f\"Precision: {p}\")\n",
    "print(f\"Recall: {r}\")\n",
    "print(f\"F score: {f}\")"
   ]
  },
  {
   "cell_type": "markdown",
   "metadata": {},
   "source": [
    "Here we can see F score is very low only 32.74% of test records are predicted corretly, the score of predicting positive value (precision) is also very low only 34.00% of positive records predicted correct."
   ]
  },
  {
   "cell_type": "code",
   "execution_count": 99,
   "metadata": {},
   "outputs": [
    {
     "data": {
      "text/plain": [
       "<sklearn.metrics._plot.confusion_matrix.ConfusionMatrixDisplay at 0x7fe32779c550>"
      ]
     },
     "execution_count": 99,
     "metadata": {},
     "output_type": "execute_result"
    },
    {
     "data": {
      "image/png": "[encoded data removed]",
      "text/plain": [
       "<Figure size 432x288 with 2 Axes>"
      ]
     },
     "metadata": {
      "needs_background": "light"
     },
     "output_type": "display_data"
    }
   ],
   "source": [
    "#Importing confusion matrix from sklearn.metrics\n",
    "from sklearn.metrics import plot_confusion_matrix\n",
    "plot_confusion_matrix(des_tree_u, Xtest, ytest,\n",
    "cmap=plt.cm.Greens, normalize='true')"
   ]
  },
  {
   "cell_type": "markdown",
   "metadata": {},
   "source": [
    "Here in above confusion matrix we can see that only slight accident predicted with good accuracy of 95% and serious and fatal with 5.9% and 6.9% respectively. 4.8% of slight accident predicted as serious, and 94% of serious accident predicted as slight and 92% of fatal accident as slight which is not good for prediction.\n",
    "\n",
    "Most of the accident predicted as slight by this model, which is a major concern to look out."
   ]
  },
  {
   "cell_type": "markdown",
   "metadata": {},
   "source": [
    "# Conclusion"
   ]
  },
  {
   "cell_type": "markdown",
   "metadata": {},
   "source": [
    "**The Random Forest Classifier** with over sampling revealed to be the best model. Further research should be devoted to such a model, namely fine-tuning the percentage of data. This performed marginally better than the baseline. However, the F-score on the test set is very low this may be due to overfitting.\n",
    "\n",
    "Same thing goes for Linear Support Vector Machine with Oversampling here some sort of overfitting is visible and  the result of Knn is almost same on train and test data.\n",
    "\n",
    "**So Random Forest Classifier is the best model for predicting accident severity its very good in predicting slight and serious type of accident severity but not fatal type of accident, so I would not recommend this model to use it in real time based enviroment infact further research is needed to develop a model that increases its capacity to forecast serious and fatal incidents**.\n",
    "\n",
    "Further improvements in variables is required to improve accuracy of the models.\n",
    "\n",
    "## Real world Scenario\n",
    "By looking at the performance of our top model I dont think its better to deploy it in real world scenario as further improvements required to make it more accuarte.If we deploy it now than we can not fully rely on this model as if this model predict wrong than this may be result in loss of time and money "
   ]
  },
  {
   "cell_type": "code",
   "execution_count": null,
   "metadata": {},
   "outputs": [],
   "source": []
  }
 ],
 "metadata": {
  "kernelspec": {
   "display_name": "Python 3",
   "language": "python",
   "name": "python3"
  },
  "language_info": {
   "codemirror_mode": {
    "name": "ipython",
    "version": 3
   },
   "file_extension": ".py",
   "mimetype": "text/x-python",
   "name": "python",
   "nbconvert_exporter": "python",
   "pygments_lexer": "ipython3",
   "version": "3.8.5"
  }
 },
 "nbformat": 4,
 "nbformat_minor": 4
}
